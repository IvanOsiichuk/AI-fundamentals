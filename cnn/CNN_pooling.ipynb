{
 "cells": [
  {
   "metadata": {},
   "cell_type": "markdown",
   "source": "# Max pooling in Convolutional neural network",
   "id": "f1d86ad984cd5fb4"
  },
  {
   "metadata": {
    "ExecuteTime": {
     "end_time": "2025-10-15T07:44:09.387534Z",
     "start_time": "2025-10-15T07:44:09.383094Z"
    }
   },
   "cell_type": "code",
   "source": [
    "import torch\n",
    "import torch.nn as nn\n",
    "\n",
    "input_order = 4\n",
    "image = torch.rand(1, 1, input_order, input_order)\n",
    "\n",
    "print(image)"
   ],
   "id": "41e581d8bf192d98",
   "outputs": [
    {
     "name": "stdout",
     "output_type": "stream",
     "text": [
      "tensor([[[[0.5199, 0.1963, 0.8525, 0.3982],\n",
      "          [0.6666, 0.5388, 0.4454, 0.2653],\n",
      "          [0.8108, 0.0827, 0.1747, 0.8090],\n",
      "          [0.8149, 0.1440, 0.1119, 0.2431]]]])\n"
     ]
    }
   ],
   "execution_count": 92
  },
  {
   "metadata": {},
   "cell_type": "markdown",
   "source": "## Max pooling with kernel=2 and stride=1",
   "id": "c3cfbd31936fe621"
  },
  {
   "cell_type": "code",
   "id": "initial_id",
   "metadata": {
    "collapsed": true,
    "ExecuteTime": {
     "end_time": "2025-10-15T07:44:09.399220Z",
     "start_time": "2025-10-15T07:44:09.396100Z"
    }
   },
   "source": [
    "max_pool_stride1 = nn.MaxPool2d(kernel_size=2, stride=1)\n",
    "pooled_stride1 = max_pool_stride1(image)\n",
    "print(pooled_stride1)"
   ],
   "outputs": [
    {
     "name": "stdout",
     "output_type": "stream",
     "text": [
      "tensor([[[[0.6666, 0.8525, 0.8525],\n",
      "          [0.8108, 0.5388, 0.8090],\n",
      "          [0.8149, 0.1747, 0.8090]]]])\n"
     ]
    }
   ],
   "execution_count": 93
  },
  {
   "metadata": {},
   "cell_type": "markdown",
   "source": "## Max pooling with kernel=2 and stride=2",
   "id": "b48016b7a4c62e9f"
  },
  {
   "metadata": {
    "ExecuteTime": {
     "end_time": "2025-10-15T07:44:09.418235Z",
     "start_time": "2025-10-15T07:44:09.415237Z"
    }
   },
   "cell_type": "code",
   "source": [
    "max_pool_stride2 = nn.MaxPool2d(kernel_size=2, stride=2)\n",
    "pooled_stride2 = max_pool_stride2(image)\n",
    "print(pooled_stride2)"
   ],
   "id": "e5b748d4d7736f83",
   "outputs": [
    {
     "name": "stdout",
     "output_type": "stream",
     "text": [
      "tensor([[[[0.6666, 0.8525],\n",
      "          [0.8149, 0.8090]]]])\n"
     ]
    }
   ],
   "execution_count": 94
  },
  {
   "metadata": {},
   "cell_type": "markdown",
   "source": "## Convolution without max pooling",
   "id": "4df87e3700c6e119"
  },
  {
   "metadata": {
    "ExecuteTime": {
     "end_time": "2025-10-15T07:44:09.435915Z",
     "start_time": "2025-10-15T07:44:09.432336Z"
    }
   },
   "cell_type": "code",
   "source": [
    "cnn = nn.Conv2d(in_channels=1, out_channels=1, kernel_size=3)\n",
    "\n",
    "sobel_filter = torch.tensor([\n",
    "    [1.0, 0, -1.0],\n",
    "    [2.0, 0, -2.0],\n",
    "    [1.0, 0, -1.0]\n",
    "])\n",
    "bias = 0.0\n",
    "\n",
    "cnn.state_dict()['weight'][0][0] = sobel_filter\n",
    "cnn.state_dict()['bias'][0] = bias\n",
    "\n",
    "z = cnn(image)\n",
    "print(z)"
   ],
   "id": "c805e0e08e756b58",
   "outputs": [
    {
     "name": "stdout",
     "output_type": "stream",
     "text": [
      "tensor([[[[ 0.7459, -0.3812],\n",
      "          [ 2.1965, -1.2781]]]], grad_fn=<ConvolutionBackward0>)\n"
     ]
    }
   ],
   "execution_count": 95
  },
  {
   "metadata": {},
   "cell_type": "markdown",
   "source": "## ReLu",
   "id": "becaf382e027e1ea"
  },
  {
   "metadata": {
    "ExecuteTime": {
     "end_time": "2025-10-15T07:44:09.445991Z",
     "start_time": "2025-10-15T07:44:09.442616Z"
    }
   },
   "cell_type": "code",
   "source": [
    "import torch.nn.functional as F\n",
    "\n",
    "A = F.relu(z)\n",
    "print(A)"
   ],
   "id": "14f59703993a9c61",
   "outputs": [
    {
     "name": "stdout",
     "output_type": "stream",
     "text": [
      "tensor([[[[0.7459, 0.0000],\n",
      "          [2.1965, 0.0000]]]], grad_fn=<ReluBackward0>)\n"
     ]
    }
   ],
   "execution_count": 96
  },
  {
   "metadata": {},
   "cell_type": "markdown",
   "source": "## Max pooling with kernel=2 and stride=1 for the convolution done before",
   "id": "bbfcd4b7cbdabe1b"
  },
  {
   "metadata": {
    "ExecuteTime": {
     "end_time": "2025-10-15T07:44:09.460076Z",
     "start_time": "2025-10-15T07:44:09.456441Z"
    }
   },
   "cell_type": "code",
   "source": [
    "print(\"Conv2d:\", cnn.state_dict(), \"\\n\", sep=\"\\n\")\n",
    "print(\"Convolution result:\", z, \"\\n\", sep=\"\\n\")\n",
    "\n",
    "max_pool_stride1 = nn.MaxPool2d(kernel_size=2, stride=1)\n",
    "\n",
    "z_max_pool_stride1 = max_pool_stride1(z)\n",
    "print(\"Max pooling:\", z_max_pool_stride1, sep=\"\\n\")"
   ],
   "id": "94bb0710108bae58",
   "outputs": [
    {
     "name": "stdout",
     "output_type": "stream",
     "text": [
      "Conv2d:\n",
      "OrderedDict({'weight': tensor([[[[ 1.,  0., -1.],\n",
      "          [ 2.,  0., -2.],\n",
      "          [ 1.,  0., -1.]]]]), 'bias': tensor([0.])})\n",
      "\n",
      "\n",
      "Convolution result:\n",
      "tensor([[[[ 0.7459, -0.3812],\n",
      "          [ 2.1965, -1.2781]]]], grad_fn=<ConvolutionBackward0>)\n",
      "\n",
      "\n",
      "Max pooling:\n",
      "tensor([[[[2.1965]]]], grad_fn=<MaxPool2DWithIndicesBackward0>)\n"
     ]
    }
   ],
   "execution_count": 97
  },
  {
   "metadata": {},
   "cell_type": "markdown",
   "source": "## Average pooling with kernel=2 and stride=1 for the convolution done before",
   "id": "d60d72c2e28e3e6d"
  },
  {
   "metadata": {
    "ExecuteTime": {
     "end_time": "2025-10-15T07:44:09.470469Z",
     "start_time": "2025-10-15T07:44:09.466957Z"
    }
   },
   "cell_type": "code",
   "source": [
    "print(\"Conv2d:\", cnn.state_dict(), \"\\n\", sep=\"\\n\")\n",
    "print(\"Convolution result:\", z, \"\\n\", sep=\"\\n\")\n",
    "\n",
    "avg_pool_stride1 = nn.AvgPool2d(kernel_size=2, stride=1)\n",
    "\n",
    "z_avg_pool_stride1 = avg_pool_stride1(z)\n",
    "print(\"Average pooling:\", z_avg_pool_stride1, sep=\"\\n\")"
   ],
   "id": "cfaa3d4842391eb4",
   "outputs": [
    {
     "name": "stdout",
     "output_type": "stream",
     "text": [
      "Conv2d:\n",
      "OrderedDict({'weight': tensor([[[[ 1.,  0., -1.],\n",
      "          [ 2.,  0., -2.],\n",
      "          [ 1.,  0., -1.]]]]), 'bias': tensor([0.])})\n",
      "\n",
      "\n",
      "Convolution result:\n",
      "tensor([[[[ 0.7459, -0.3812],\n",
      "          [ 2.1965, -1.2781]]]], grad_fn=<ConvolutionBackward0>)\n",
      "\n",
      "\n",
      "Average pooling:\n",
      "tensor([[[[0.3208]]]], grad_fn=<AvgPool2DBackward0>)\n"
     ]
    }
   ],
   "execution_count": 98
  }
 ],
 "metadata": {
  "kernelspec": {
   "display_name": "Python 3",
   "language": "python",
   "name": "python3"
  },
  "language_info": {
   "codemirror_mode": {
    "name": "ipython",
    "version": 2
   },
   "file_extension": ".py",
   "mimetype": "text/x-python",
   "name": "python",
   "nbconvert_exporter": "python",
   "pygments_lexer": "ipython2",
   "version": "2.7.6"
  }
 },
 "nbformat": 4,
 "nbformat_minor": 5
}
