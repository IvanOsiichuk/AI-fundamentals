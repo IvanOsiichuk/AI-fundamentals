{
 "cells": [
  {
   "metadata": {},
   "cell_type": "markdown",
   "source": "# Convolutional neural network",
   "id": "1371204970034f77"
  },
  {
   "metadata": {},
   "cell_type": "markdown",
   "source": "## Parameters",
   "id": "ff9494e86c2650f7"
  },
  {
   "metadata": {
    "ExecuteTime": {
     "end_time": "2025-10-20T13:45:40.300372Z",
     "start_time": "2025-10-20T13:45:38.564886Z"
    }
   },
   "cell_type": "code",
   "source": [
    "import torch\n",
    "\n",
    "sobel_filter = torch.tensor([\n",
    "    [1.0, 0, -1.0],\n",
    "    [2.0, 0, -2.0],\n",
    "    [1.0, 0.0, -1.0]\n",
    "])\n",
    "\n",
    "bias = 0.0"
   ],
   "id": "2a8dbd02b2339fac",
   "outputs": [],
   "execution_count": 1
  },
  {
   "metadata": {},
   "cell_type": "markdown",
   "source": [
    "## Random image (9, 9)\n",
    "\n",
    "with each value within the range of 0-1"
   ],
   "id": "55846f12c9951374"
  },
  {
   "metadata": {
    "ExecuteTime": {
     "end_time": "2025-10-20T13:45:40.363566Z",
     "start_time": "2025-10-20T13:45:40.321050Z"
    }
   },
   "cell_type": "code",
   "source": [
    "input_order = 9\n",
    "image = torch.rand(1, 1, input_order, input_order)\n",
    "\n",
    "print(image)"
   ],
   "id": "51c9ec98a5af4f5e",
   "outputs": [
    {
     "name": "stdout",
     "output_type": "stream",
     "text": [
      "tensor([[[[0.5841, 0.4447, 0.5830, 0.2564, 0.6325, 0.7389, 0.6928, 0.6728,\n",
      "           0.7098],\n",
      "          [0.0339, 0.1860, 0.1244, 0.6003, 0.9650, 0.3956, 0.0866, 0.1686,\n",
      "           0.6691],\n",
      "          [0.4869, 0.3259, 0.7758, 0.1123, 0.0622, 0.0780, 0.2481, 0.1996,\n",
      "           0.1743],\n",
      "          [0.7998, 0.3172, 0.5321, 0.8287, 0.4054, 0.8201, 0.1014, 0.0955,\n",
      "           0.9110],\n",
      "          [0.4654, 0.5124, 0.2176, 0.7725, 0.9329, 0.4657, 0.4086, 0.9023,\n",
      "           0.9707],\n",
      "          [0.3636, 0.9415, 0.8912, 0.0202, 0.2745, 0.7931, 0.4333, 0.6086,\n",
      "           0.1082],\n",
      "          [0.8938, 0.6369, 0.3117, 0.1869, 0.3549, 0.5737, 0.5245, 0.2009,\n",
      "           0.1373],\n",
      "          [0.0585, 0.9436, 0.1640, 0.6665, 0.8739, 0.2098, 0.9348, 0.7412,\n",
      "           0.4756],\n",
      "          [0.0034, 0.0596, 0.1058, 0.1324, 0.4004, 0.9793, 0.3906, 0.2380,\n",
      "           0.7911]]]])\n"
     ]
    }
   ],
   "execution_count": 2
  },
  {
   "metadata": {},
   "cell_type": "markdown",
   "source": "## Task 1",
   "id": "ebe5cdff7f93f305"
  },
  {
   "metadata": {},
   "cell_type": "markdown",
   "source": [
    "### Convolution with the default parameters\n",
    "\n",
    "The result has the dimension:\n",
    "$$n_{new}={n-f}+1$$\n",
    "\n",
    "- **n** - order of the input tensor\n",
    "- **f** - order of the filter"
   ],
   "id": "803f81d658596547"
  },
  {
   "metadata": {
    "ExecuteTime": {
     "end_time": "2025-10-20T13:45:40.418208Z",
     "start_time": "2025-10-20T13:45:40.401641Z"
    }
   },
   "cell_type": "code",
   "source": [
    "import torch.nn as nn\n",
    "\n",
    "cnn = nn.Conv2d(in_channels=1, out_channels=1, kernel_size=3)\n",
    "cnn.state_dict()[\"weight\"][0][0] = sobel_filter\n",
    "cnn.state_dict()[\"bias\"][0] = bias\n",
    "\n",
    "z = cnn(image)\n",
    "print(z)"
   ],
   "id": "118b323c8c5358ab",
   "outputs": [
    {
     "name": "stdout",
     "output_type": "stream",
     "text": [
      "tensor([[[[-0.4687, -0.4266, -1.0172, -0.0389,  1.5107,  0.3985, -1.1082],\n",
      "          [-0.4005, -0.4984,  0.7133,  0.2819,  0.8106,  0.7084, -1.2446],\n",
      "          [ 0.4942, -1.0695,  0.2517,  0.3584,  0.9464,  0.8910, -2.1076],\n",
      "          [ 0.2356, -0.1105, -0.6872, -0.1506,  1.1939,  0.0359, -1.6088],\n",
      "          [-0.2254,  2.0325,  0.4749, -1.6258,  0.0373,  0.3052,  0.4752],\n",
      "          [ 0.5310,  2.0984, -0.1796, -1.0899, -0.5587,  0.3988,  1.5587],\n",
      "          [ 0.2686,  0.9314, -1.7575, -0.3204, -0.2816,  0.0513,  0.9051]]]],\n",
      "       grad_fn=<ConvolutionBackward0>)\n"
     ]
    }
   ],
   "execution_count": 3
  },
  {
   "metadata": {},
   "cell_type": "markdown",
   "source": [
    "### Convolution with the stride=2\n",
    "\n",
    "stride=2 leads to:\n",
    "- horizontal move - move 2 values right each time\n",
    "- vertical mode - move 2 values down after finishing row\n",
    "\n",
    "The result has the dimension:\n",
    "$$n_{new}=\\dfrac{n-f}{s}+1$$\n",
    "\n",
    "- **n** - order of the input tensor\n",
    "- **f** - order of the filter\n",
    "- **s** - stride"
   ],
   "id": "ffdec9b5f1720f50"
  },
  {
   "metadata": {
    "ExecuteTime": {
     "end_time": "2025-10-20T13:45:40.438221Z",
     "start_time": "2025-10-20T13:45:40.434156Z"
    }
   },
   "cell_type": "code",
   "source": [
    "cnn_stride2 = nn.Conv2d(in_channels=1, out_channels=1, kernel_size=3, stride=2)\n",
    "cnn_stride2.state_dict()[\"weight\"][0][0] = sobel_filter\n",
    "cnn_stride2.state_dict()[\"bias\"][0] = 0.0\n",
    "\n",
    "z_stride2 = cnn_stride2(image)\n",
    "print(z_stride2)"
   ],
   "id": "3de1df69963ed294",
   "outputs": [
    {
     "name": "stdout",
     "output_type": "stream",
     "text": [
      "tensor([[[[-0.4687, -1.0172,  1.5107, -1.1082],\n",
      "          [ 0.4942,  0.2517,  0.9464, -2.1076],\n",
      "          [-0.2254,  0.4749,  0.0373,  0.4752],\n",
      "          [ 0.2686, -1.7575, -0.2816,  0.9051]]]],\n",
      "       grad_fn=<ConvolutionBackward0>)\n"
     ]
    }
   ],
   "execution_count": 4
  },
  {
   "metadata": {},
   "cell_type": "markdown",
   "source": [
    "### Convolution with the stride=2 and padding=1\n",
    "\n",
    "The result has the dimension:\n",
    "$$n_{new}=\\dfrac{n+2p-f}{s}+1$$\n",
    "\n",
    "- _n_ - order of the input tensor\n",
    "- _f_ - order of the filter\n",
    "- _s_ - stride\n",
    "- _p_ - padding"
   ],
   "id": "73f12673e95555cc"
  },
  {
   "metadata": {
    "ExecuteTime": {
     "end_time": "2025-10-20T13:45:40.453743Z",
     "start_time": "2025-10-20T13:45:40.449967Z"
    }
   },
   "cell_type": "code",
   "source": [
    "cnn_stride2_padding1 = nn.Conv2d(in_channels=1, out_channels=1, kernel_size=3, stride=2, padding=1)\n",
    "cnn_stride2_padding1.state_dict()[\"weight\"][0][0] = sobel_filter\n",
    "cnn_stride2_padding1.state_dict()[\"bias\"][0] = 0.0\n",
    "\n",
    "z_stride2_padding1 = cnn_stride2_padding1(image)\n",
    "print(z_stride2_padding1)"
   ],
   "id": "3971826ea3f6754c",
   "outputs": [
    {
     "name": "stdout",
     "output_type": "stream",
     "text": [
      "tensor([[[[-1.0754, -0.0376, -0.7603,  0.3591,  1.5142],\n",
      "          [-1.1551, -0.4984,  0.2819,  0.7084,  0.6632],\n",
      "          [-2.2834, -0.1105, -0.1506,  0.0359,  2.5087],\n",
      "          [-3.1589,  2.0984, -1.0899,  0.3988,  1.7516],\n",
      "          [-1.0628,  0.1316, -1.2371,  0.9511,  1.2173]]]],\n",
      "       grad_fn=<ConvolutionBackward0>)\n"
     ]
    }
   ],
   "execution_count": 5
  },
  {
   "metadata": {},
   "cell_type": "markdown",
   "source": "## Task 2",
   "id": "8be54ccf845bba10"
  },
  {
   "metadata": {},
   "cell_type": "markdown",
   "source": [
    "### Convolution with the stride=2 and padding=same\n",
    "\n",
    "To get the same input and output dimension:\n",
    "$$n=\\dfrac{n+2p-f}{s}+1$$\n",
    "\n",
    "$$p = \\frac{n(s - 1) + f - s}{2}$$\n",
    "\n",
    "For _s=2_ and _f=3_:\n",
    "$$p = \\frac{9(2 - 1) + 3 - 2}{2}=5$$\n",
    "\n",
    "- **n** - order of the input tensor\n",
    "- **f** - order of the filter\n",
    "- **s** - stride\n",
    "- **p** - padding"
   ],
   "id": "8fd8fa42734c8e8f"
  },
  {
   "metadata": {
    "ExecuteTime": {
     "end_time": "2025-10-20T13:45:40.468639Z",
     "start_time": "2025-10-20T13:45:40.464202Z"
    }
   },
   "cell_type": "code",
   "source": [
    "f = 3\n",
    "s = 2\n",
    "padding_same_stride2 = input_order * (s - 1) + f - s\n",
    "\n",
    "cnn_stride2_padding_same = nn.Conv2d(\n",
    "    in_channels=1,\n",
    "    out_channels=1,\n",
    "    kernel_size=f,\n",
    "    stride=s,\n",
    "    padding=padding_same_stride2\n",
    ")\n",
    "cnn_stride2_padding_same.state_dict()[\"weight\"][0][0] = sobel_filter\n",
    "cnn_stride2_padding_same.state_dict()[\"bias\"][0] = 0.0\n",
    "\n",
    "z_stride2_padding_same = cnn_stride2_padding_same(image)\n",
    "print(z_stride2_padding_same)"
   ],
   "id": "fecb953ec75dc7bb",
   "outputs": [
    {
     "name": "stdout",
     "output_type": "stream",
     "text": [
      "tensor([[[[ 0.0000e+00,  0.0000e+00,  0.0000e+00,  0.0000e+00,  0.0000e+00,\n",
      "            0.0000e+00,  0.0000e+00,  0.0000e+00,  0.0000e+00,  0.0000e+00,\n",
      "            0.0000e+00,  0.0000e+00,  0.0000e+00,  0.0000e+00],\n",
      "          [ 0.0000e+00,  0.0000e+00,  0.0000e+00,  0.0000e+00,  0.0000e+00,\n",
      "            0.0000e+00,  0.0000e+00,  0.0000e+00,  0.0000e+00,  0.0000e+00,\n",
      "            0.0000e+00,  0.0000e+00,  0.0000e+00,  0.0000e+00],\n",
      "          [ 0.0000e+00,  0.0000e+00,  0.0000e+00,  0.0000e+00,  0.0000e+00,\n",
      "            0.0000e+00,  0.0000e+00,  0.0000e+00,  0.0000e+00,  0.0000e+00,\n",
      "            0.0000e+00,  0.0000e+00,  0.0000e+00,  0.0000e+00],\n",
      "          [ 0.0000e+00,  0.0000e+00,  0.0000e+00,  0.0000e+00,  0.0000e+00,\n",
      "            0.0000e+00,  0.0000e+00,  0.0000e+00,  0.0000e+00,  0.0000e+00,\n",
      "            0.0000e+00,  0.0000e+00,  0.0000e+00,  0.0000e+00],\n",
      "          [ 0.0000e+00,  0.0000e+00,  0.0000e+00,  0.0000e+00, -5.8409e-01,\n",
      "            1.0821e-03, -4.9494e-02, -6.0288e-02, -1.6993e-02,  7.0979e-01,\n",
      "            0.0000e+00,  0.0000e+00,  0.0000e+00,  0.0000e+00],\n",
      "          [ 0.0000e+00,  0.0000e+00,  0.0000e+00,  0.0000e+00, -1.1389e+00,\n",
      "           -4.6866e-01, -1.0172e+00,  1.5107e+00, -1.1082e+00,  2.2223e+00,\n",
      "            0.0000e+00,  0.0000e+00,  0.0000e+00,  0.0000e+00],\n",
      "          [ 0.0000e+00,  0.0000e+00,  0.0000e+00,  0.0000e+00, -2.5518e+00,\n",
      "            4.9425e-01,  2.5174e-01,  9.4643e-01, -2.1076e+00,  2.9670e+00,\n",
      "            0.0000e+00,  0.0000e+00,  0.0000e+00,  0.0000e+00],\n",
      "          [ 0.0000e+00,  0.0000e+00,  0.0000e+00,  0.0000e+00, -2.0864e+00,\n",
      "           -2.2538e-01,  4.7489e-01,  3.7308e-02,  4.7524e-01,  1.3243e+00,\n",
      "            0.0000e+00,  0.0000e+00,  0.0000e+00,  0.0000e+00],\n",
      "          [ 0.0000e+00,  0.0000e+00,  0.0000e+00,  0.0000e+00, -1.0142e+00,\n",
      "            2.6863e-01, -1.7575e+00, -2.8157e-01,  9.0509e-01,  1.8796e+00,\n",
      "            0.0000e+00,  0.0000e+00,  0.0000e+00,  0.0000e+00],\n",
      "          [ 0.0000e+00,  0.0000e+00,  0.0000e+00,  0.0000e+00, -3.4255e-03,\n",
      "           -1.0234e-01, -2.9464e-01,  9.7849e-03, -4.0053e-01,  7.9114e-01,\n",
      "            0.0000e+00,  0.0000e+00,  0.0000e+00,  0.0000e+00],\n",
      "          [ 0.0000e+00,  0.0000e+00,  0.0000e+00,  0.0000e+00,  0.0000e+00,\n",
      "            0.0000e+00,  0.0000e+00,  0.0000e+00,  0.0000e+00,  0.0000e+00,\n",
      "            0.0000e+00,  0.0000e+00,  0.0000e+00,  0.0000e+00],\n",
      "          [ 0.0000e+00,  0.0000e+00,  0.0000e+00,  0.0000e+00,  0.0000e+00,\n",
      "            0.0000e+00,  0.0000e+00,  0.0000e+00,  0.0000e+00,  0.0000e+00,\n",
      "            0.0000e+00,  0.0000e+00,  0.0000e+00,  0.0000e+00],\n",
      "          [ 0.0000e+00,  0.0000e+00,  0.0000e+00,  0.0000e+00,  0.0000e+00,\n",
      "            0.0000e+00,  0.0000e+00,  0.0000e+00,  0.0000e+00,  0.0000e+00,\n",
      "            0.0000e+00,  0.0000e+00,  0.0000e+00,  0.0000e+00],\n",
      "          [ 0.0000e+00,  0.0000e+00,  0.0000e+00,  0.0000e+00,  0.0000e+00,\n",
      "            0.0000e+00,  0.0000e+00,  0.0000e+00,  0.0000e+00,  0.0000e+00,\n",
      "            0.0000e+00,  0.0000e+00,  0.0000e+00,  0.0000e+00]]]],\n",
      "       grad_fn=<ConvolutionBackward0>)\n"
     ]
    }
   ],
   "execution_count": 6
  },
  {
   "metadata": {},
   "cell_type": "markdown",
   "source": "## Bonus",
   "id": "57e87c79e94866c"
  },
  {
   "metadata": {},
   "cell_type": "markdown",
   "source": "### Padding visualization\n",
   "id": "9e4a8ccd45bb1bad"
  },
  {
   "metadata": {
    "ExecuteTime": {
     "end_time": "2025-10-20T13:45:53.176966Z",
     "start_time": "2025-10-20T13:45:53.173239Z"
    }
   },
   "cell_type": "code",
   "source": [
    "import torch.nn.functional as F\n",
    "\n",
    "padded_image = F.pad(image, (1, 1, 1, 1))  # (left, right, top, bottom)\n",
    "print(padded_image)"
   ],
   "id": "755388bf88dc5403",
   "outputs": [
    {
     "name": "stdout",
     "output_type": "stream",
     "text": [
      "tensor([[[[0.0000, 0.0000, 0.0000, 0.0000, 0.0000, 0.0000, 0.0000, 0.0000,\n",
      "           0.0000, 0.0000, 0.0000],\n",
      "          [0.0000, 0.5841, 0.4447, 0.5830, 0.2564, 0.6325, 0.7389, 0.6928,\n",
      "           0.6728, 0.7098, 0.0000],\n",
      "          [0.0000, 0.0339, 0.1860, 0.1244, 0.6003, 0.9650, 0.3956, 0.0866,\n",
      "           0.1686, 0.6691, 0.0000],\n",
      "          [0.0000, 0.4869, 0.3259, 0.7758, 0.1123, 0.0622, 0.0780, 0.2481,\n",
      "           0.1996, 0.1743, 0.0000],\n",
      "          [0.0000, 0.7998, 0.3172, 0.5321, 0.8287, 0.4054, 0.8201, 0.1014,\n",
      "           0.0955, 0.9110, 0.0000],\n",
      "          [0.0000, 0.4654, 0.5124, 0.2176, 0.7725, 0.9329, 0.4657, 0.4086,\n",
      "           0.9023, 0.9707, 0.0000],\n",
      "          [0.0000, 0.3636, 0.9415, 0.8912, 0.0202, 0.2745, 0.7931, 0.4333,\n",
      "           0.6086, 0.1082, 0.0000],\n",
      "          [0.0000, 0.8938, 0.6369, 0.3117, 0.1869, 0.3549, 0.5737, 0.5245,\n",
      "           0.2009, 0.1373, 0.0000],\n",
      "          [0.0000, 0.0585, 0.9436, 0.1640, 0.6665, 0.8739, 0.2098, 0.9348,\n",
      "           0.7412, 0.4756, 0.0000],\n",
      "          [0.0000, 0.0034, 0.0596, 0.1058, 0.1324, 0.4004, 0.9793, 0.3906,\n",
      "           0.2380, 0.7911, 0.0000],\n",
      "          [0.0000, 0.0000, 0.0000, 0.0000, 0.0000, 0.0000, 0.0000, 0.0000,\n",
      "           0.0000, 0.0000, 0.0000]]]])\n"
     ]
    }
   ],
   "execution_count": 9
  },
  {
   "metadata": {},
   "cell_type": "markdown",
   "source": "### Comparative visualization",
   "id": "6f121997e971a20a"
  },
  {
   "metadata": {
    "ExecuteTime": {
     "end_time": "2025-10-20T13:45:41.100368Z",
     "start_time": "2025-10-20T13:45:40.498728Z"
    }
   },
   "cell_type": "code",
   "source": [
    "from matplotlib import pyplot as plt\n",
    "\n",
    "images = [image, z, z_stride2, z_stride2_padding1, z_stride2_padding_same]\n",
    "labels = [\"original\", \"default s\", \"s=2\", \"s=2, p=1\", \"s=2, p=same\"]\n",
    "\n",
    "n = len(images)\n",
    "fig, axes = plt.subplots(1, n, figsize=(4 * n, 4))\n",
    "\n",
    "for ax, i, l in zip(axes, images, labels):\n",
    "    img_np = i.squeeze().detach().numpy()\n",
    "    ax.imshow(img_np, cmap=\"gray\")\n",
    "    ax.set_title(l)\n",
    "\n",
    "plt.tight_layout()\n",
    "plt.show()"
   ],
   "id": "df6eab6aa2d4af8c",
   "outputs": [
    {
     "data": {
      "text/plain": [
       "<Figure size 2000x400 with 5 Axes>"
      ],
      "image/png": "[encoded data removed]"
     },
     "metadata": {},
     "output_type": "display_data",
     "jetTransient": {
      "display_id": null
     }
    }
   ],
   "execution_count": 8
  }
 ],
 "metadata": {
  "kernelspec": {
   "display_name": "Python 3",
   "language": "python",
   "name": "python3"
  },
  "language_info": {
   "codemirror_mode": {
    "name": "ipython",
    "version": 2
   },
   "file_extension": ".py",
   "mimetype": "text/x-python",
   "name": "python",
   "nbconvert_exporter": "python",
   "pygments_lexer": "ipython2",
   "version": "2.7.6"
  }
 },
 "nbformat": 4,
 "nbformat_minor": 5
}
