{
 "cells": [
  {
   "metadata": {},
   "cell_type": "markdown",
   "source": "# Convolutional neural network",
   "id": "1371204970034f77"
  },
  {
   "metadata": {},
   "cell_type": "markdown",
   "source": "## Parameters",
   "id": "ff9494e86c2650f7"
  },
  {
   "metadata": {
    "ExecuteTime": {
     "end_time": "2025-10-14T18:11:01.991495Z",
     "start_time": "2025-10-14T18:11:01.989035Z"
    }
   },
   "cell_type": "code",
   "source": [
    "import torch\n",
    "\n",
    "sobel_filter = torch.tensor([\n",
    "    [1.0, 0, -1.0],\n",
    "    [2.0, 0, -2.0],\n",
    "    [1.0, 0.0, -1.0]\n",
    "])\n",
    "\n",
    "bias = 0.0"
   ],
   "id": "2a8dbd02b2339fac",
   "outputs": [],
   "execution_count": 687
  },
  {
   "metadata": {},
   "cell_type": "markdown",
   "source": [
    "## Random image (1, 1, 9, 9)\n",
    "\n",
    "each value is within the range of 0-1"
   ],
   "id": "55846f12c9951374"
  },
  {
   "metadata": {
    "ExecuteTime": {
     "end_time": "2025-10-14T18:11:02.008438Z",
     "start_time": "2025-10-14T18:11:02.004844Z"
    }
   },
   "cell_type": "code",
   "source": [
    "matrix_order = 9\n",
    "image = torch.rand(1, 1, matrix_order, matrix_order)\n",
    "\n",
    "print(image)"
   ],
   "id": "51c9ec98a5af4f5e",
   "outputs": [
    {
     "name": "stdout",
     "output_type": "stream",
     "text": [
      "tensor([[[[0.0131, 0.2436, 0.7375, 0.0201, 0.4957, 0.5943, 0.3517, 0.8907,\n",
      "           0.0557],\n",
      "          [0.9975, 0.9948, 0.4066, 0.0433, 0.7265, 0.4460, 0.8014, 0.5753,\n",
      "           0.8906],\n",
      "          [0.5396, 0.8340, 0.1817, 0.9007, 0.6860, 0.1490, 0.4065, 0.7976,\n",
      "           0.9870],\n",
      "          [0.4624, 0.0023, 0.9720, 0.8061, 0.5320, 0.5951, 0.3183, 0.7759,\n",
      "           0.0590],\n",
      "          [0.0475, 0.3176, 0.1126, 0.3167, 0.0307, 0.3986, 0.6151, 0.7535,\n",
      "           0.4398],\n",
      "          [0.9100, 0.1808, 0.8795, 0.4073, 0.9762, 0.0901, 0.9992, 0.9032,\n",
      "           0.0250],\n",
      "          [0.2747, 0.2049, 0.0662, 0.7201, 0.1778, 0.0537, 0.1128, 0.1078,\n",
      "           0.3862],\n",
      "          [0.5770, 0.0531, 0.8664, 0.5753, 0.8156, 0.0450, 0.0343, 0.7499,\n",
      "           0.6016],\n",
      "          [0.9299, 0.4688, 0.1762, 0.3874, 0.0889, 0.7472, 0.5027, 0.9279,\n",
      "           0.3776]]]])\n"
     ]
    }
   ],
   "execution_count": 688
  },
  {
   "metadata": {},
   "cell_type": "markdown",
   "source": [
    "## Convolution with the default parameters\n",
    "\n",
    "The result has the dimension:\n",
    "$$n_{new}={n-f}+1$$\n",
    "\n",
    "- **n** - order of the input tensor\n",
    "- **f** - order of the filter"
   ],
   "id": "803f81d658596547"
  },
  {
   "metadata": {
    "ExecuteTime": {
     "end_time": "2025-10-14T18:11:02.024415Z",
     "start_time": "2025-10-14T18:11:02.020648Z"
    }
   },
   "cell_type": "code",
   "source": [
    "import torch.nn as nn\n",
    "\n",
    "cnn = nn.Conv2d(in_channels=1, out_channels=1, kernel_size=3)\n",
    "cnn.state_dict()[\"weight\"][0][0] = sobel_filter\n",
    "cnn.state_dict()[\"bias\"][0] = bias\n",
    "\n",
    "z = cnn(image)\n",
    "print(z)"
   ],
   "id": "118b323c8c5358ab",
   "outputs": [
    {
     "name": "stdout",
     "output_type": "stream",
     "text": [
      "tensor([[[[ 0.8152,  2.0598, -0.9022, -0.6279,  0.2737, -1.2036, -0.4630],\n",
      "          [ 0.7971,  0.0144, -0.8884,  1.3116,  0.6978, -1.6072, -0.9910],\n",
      "          [-0.7264, -1.6735,  0.4575,  1.0917,  0.1226, -1.3650,  0.1135],\n",
      "          [-0.6094, -1.0286,  0.5070,  0.3645, -0.9780, -1.7037,  1.5842],\n",
      "          [ 0.2043, -0.9673, -0.2230,  1.2189, -0.5655, -2.0351,  1.8502],\n",
      "          [ 0.1581, -1.7791, -0.2689,  2.1802,  0.8882, -1.6260, -0.1401],\n",
      "          [ 0.3834, -1.4783,  0.0774,  1.3671,  1.2138, -1.6444, -1.2830]]]],\n",
      "       grad_fn=<ConvolutionBackward0>)\n"
     ]
    }
   ],
   "execution_count": 689
  },
  {
   "metadata": {},
   "cell_type": "markdown",
   "source": [
    "## Convolution with the stride=2\n",
    "\n",
    "stride=2 leads to:\n",
    "- horizontal move - move 2 values right each time\n",
    "- vertical mode - move 2 values down after finishing row\n",
    "\n",
    "The result has the dimension:\n",
    "$$n_{new}=\\dfrac{n-f}{s}+1$$\n",
    "\n",
    "- **n** - order of the input tensor\n",
    "- **f** - order of the filter\n",
    "- **s** - stride"
   ],
   "id": "ffdec9b5f1720f50"
  },
  {
   "metadata": {
    "ExecuteTime": {
     "end_time": "2025-10-14T18:11:02.032098Z",
     "start_time": "2025-10-14T18:11:02.028409Z"
    }
   },
   "cell_type": "code",
   "source": [
    "cnn_stride2 = nn.Conv2d(in_channels=1, out_channels=1, kernel_size=3, stride=2)\n",
    "cnn_stride2.state_dict()[\"weight\"][0][0] = sobel_filter\n",
    "cnn_stride2.state_dict()[\"bias\"][0] = 0.0\n",
    "\n",
    "z_stride2 = cnn_stride2(image)\n",
    "print(z_stride2)"
   ],
   "id": "3de1df69963ed294",
   "outputs": [
    {
     "name": "stdout",
     "output_type": "stream",
     "text": [
      "tensor([[[[ 0.8152, -0.9022,  0.2737, -0.4630],\n",
      "          [-0.7264,  0.4575,  0.1226,  0.1135],\n",
      "          [ 0.2043, -0.2230, -0.5655,  1.8502],\n",
      "          [ 0.3834,  0.0774,  1.2138, -1.2830]]]],\n",
      "       grad_fn=<ConvolutionBackward0>)\n"
     ]
    }
   ],
   "execution_count": 690
  },
  {
   "metadata": {},
   "cell_type": "markdown",
   "source": [
    "## Convolution with the stride=2 and padding=1\n",
    "\n",
    "The result has the dimension:\n",
    "$$n_{new}=\\dfrac{n+2p-f}{s}+1$$\n",
    "\n",
    "- **n** - order of the input tensor\n",
    "- **f** - order of the filter\n",
    "- **s** - stride\n",
    "- **p** - padding"
   ],
   "id": "73f12673e95555cc"
  },
  {
   "metadata": {
    "ExecuteTime": {
     "end_time": "2025-10-14T18:11:02.047243Z",
     "start_time": "2025-10-14T18:11:02.043921Z"
    }
   },
   "cell_type": "code",
   "source": [
    "cnn_stride2_padding1 = nn.Conv2d(in_channels=1, out_channels=1, kernel_size=3, stride=2, padding=1)\n",
    "cnn_stride2_padding1.state_dict()[\"weight\"][0][0] = sobel_filter\n",
    "cnn_stride2_padding1.state_dict()[\"bias\"][0] = 0.0\n",
    "\n",
    "z_stride2_padding1 = cnn_stride2_padding1(image)\n",
    "print(z_stride2_padding1)"
   ],
   "id": "3971826ea3f6754c",
   "outputs": [
    {
     "name": "stdout",
     "output_type": "stream",
     "text": [
      "tensor([[[[-1.4820,  1.3984, -1.5509, -0.7221,  2.3567],\n",
      "          [-2.6651,  0.0144,  1.3116, -1.6072,  2.9464],\n",
      "          [-0.8182, -1.0286,  0.3645, -1.7037,  3.1860],\n",
      "          [-0.6437, -1.7791,  2.1802, -1.6260,  1.8686],\n",
      "          [-0.9906, -0.3595, -0.1893, -1.0663,  2.6057]]]],\n",
      "       grad_fn=<ConvolutionBackward0>)\n"
     ]
    }
   ],
   "execution_count": 691
  },
  {
   "metadata": {},
   "cell_type": "markdown",
   "source": "## Padding visualization\n",
   "id": "9e4a8ccd45bb1bad"
  },
  {
   "metadata": {
    "ExecuteTime": {
     "end_time": "2025-10-14T18:11:02.061097Z",
     "start_time": "2025-10-14T18:11:02.057662Z"
    }
   },
   "cell_type": "code",
   "source": [
    "import torch.nn.functional as F\n",
    "\n",
    "padded_image = F.pad(image, (1, 1, 1, 1))  # (left, right, top, bottom)\n",
    "print(padded_image)"
   ],
   "id": "755388bf88dc5403",
   "outputs": [
    {
     "name": "stdout",
     "output_type": "stream",
     "text": [
      "tensor([[[[0.0000, 0.0000, 0.0000, 0.0000, 0.0000, 0.0000, 0.0000, 0.0000,\n",
      "           0.0000, 0.0000, 0.0000],\n",
      "          [0.0000, 0.0131, 0.2436, 0.7375, 0.0201, 0.4957, 0.5943, 0.3517,\n",
      "           0.8907, 0.0557, 0.0000],\n",
      "          [0.0000, 0.9975, 0.9948, 0.4066, 0.0433, 0.7265, 0.4460, 0.8014,\n",
      "           0.5753, 0.8906, 0.0000],\n",
      "          [0.0000, 0.5396, 0.8340, 0.1817, 0.9007, 0.6860, 0.1490, 0.4065,\n",
      "           0.7976, 0.9870, 0.0000],\n",
      "          [0.0000, 0.4624, 0.0023, 0.9720, 0.8061, 0.5320, 0.5951, 0.3183,\n",
      "           0.7759, 0.0590, 0.0000],\n",
      "          [0.0000, 0.0475, 0.3176, 0.1126, 0.3167, 0.0307, 0.3986, 0.6151,\n",
      "           0.7535, 0.4398, 0.0000],\n",
      "          [0.0000, 0.9100, 0.1808, 0.8795, 0.4073, 0.9762, 0.0901, 0.9992,\n",
      "           0.9032, 0.0250, 0.0000],\n",
      "          [0.0000, 0.2747, 0.2049, 0.0662, 0.7201, 0.1778, 0.0537, 0.1128,\n",
      "           0.1078, 0.3862, 0.0000],\n",
      "          [0.0000, 0.5770, 0.0531, 0.8664, 0.5753, 0.8156, 0.0450, 0.0343,\n",
      "           0.7499, 0.6016, 0.0000],\n",
      "          [0.0000, 0.9299, 0.4688, 0.1762, 0.3874, 0.0889, 0.7472, 0.5027,\n",
      "           0.9279, 0.3776, 0.0000],\n",
      "          [0.0000, 0.0000, 0.0000, 0.0000, 0.0000, 0.0000, 0.0000, 0.0000,\n",
      "           0.0000, 0.0000, 0.0000]]]])\n"
     ]
    }
   ],
   "execution_count": 692
  },
  {
   "metadata": {},
   "cell_type": "markdown",
   "source": "## Visualization",
   "id": "6f121997e971a20a"
  },
  {
   "metadata": {
    "ExecuteTime": {
     "end_time": "2025-10-14T18:11:02.293052Z",
     "start_time": "2025-10-14T18:11:02.070876Z"
    }
   },
   "cell_type": "code",
   "source": [
    "from matplotlib import pyplot as plt\n",
    "\n",
    "images = [image, z, z_stride2, z_stride2_padding1]\n",
    "labels = [\"original\", \"default s\", \"s=2\", \"s=2, p=1\"]\n",
    "\n",
    "n = len(images)\n",
    "fig, axes = plt.subplots(1, n, figsize=(4 * n, 4))\n",
    "\n",
    "na_stride2 = z.squeeze().detach().numpy()\n",
    "plt.imshow(na_stride2, cmap=\"gray\")\n",
    "\n",
    "for ax, i, l in zip(axes, images, labels):\n",
    "    img_np = i.squeeze().detach().numpy()\n",
    "    ax.imshow(img_np, cmap=\"gray\")\n",
    "    ax.set_title(l)\n",
    "\n",
    "plt.tight_layout()\n",
    "plt.show()"
   ],
   "id": "df6eab6aa2d4af8c",
   "outputs": [
    {
     "data": {
      "text/plain": [
       "<Figure size 1600x400 with 4 Axes>"
      ],
      "image/png": "[encoded data removed]"
     },
     "metadata": {},
     "output_type": "display_data",
     "jetTransient": {
      "display_id": null
     }
    }
   ],
   "execution_count": 693
  }
 ],
 "metadata": {
  "kernelspec": {
   "display_name": "Python 3",
   "language": "python",
   "name": "python3"
  },
  "language_info": {
   "codemirror_mode": {
    "name": "ipython",
    "version": 2
   },
   "file_extension": ".py",
   "mimetype": "text/x-python",
   "name": "python",
   "nbconvert_exporter": "python",
   "pygments_lexer": "ipython2",
   "version": "2.7.6"
  }
 },
 "nbformat": 4,
 "nbformat_minor": 5
}
