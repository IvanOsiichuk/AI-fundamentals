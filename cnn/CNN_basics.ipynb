{
 "cells": [
  {
   "metadata": {},
   "cell_type": "markdown",
   "source": "# Convolutional neural network",
   "id": "1371204970034f77"
  },
  {
   "metadata": {},
   "cell_type": "markdown",
   "source": "## Parameters",
   "id": "ff9494e86c2650f7"
  },
  {
   "metadata": {
    "ExecuteTime": {
     "end_time": "2025-10-18T14:43:28.657970Z",
     "start_time": "2025-10-18T14:43:28.654357Z"
    }
   },
   "cell_type": "code",
   "source": [
    "import torch\n",
    "\n",
    "sobel_filter = torch.tensor([\n",
    "    [1.0, 0, -1.0],\n",
    "    [2.0, 0, -2.0],\n",
    "    [1.0, 0.0, -1.0]\n",
    "])\n",
    "\n",
    "bias = 0.0"
   ],
   "id": "2a8dbd02b2339fac",
   "outputs": [],
   "execution_count": 25
  },
  {
   "metadata": {},
   "cell_type": "markdown",
   "source": [
    "## Random image (1, 1, 9, 9)\n",
    "\n",
    "each value is within the range of 0-1"
   ],
   "id": "55846f12c9951374"
  },
  {
   "metadata": {
    "ExecuteTime": {
     "end_time": "2025-10-18T14:43:28.665942Z",
     "start_time": "2025-10-18T14:43:28.661854Z"
    }
   },
   "cell_type": "code",
   "source": [
    "input_order = 9\n",
    "image = torch.rand(1, 1, input_order, input_order)\n",
    "\n",
    "print(image)"
   ],
   "id": "51c9ec98a5af4f5e",
   "outputs": [
    {
     "name": "stdout",
     "output_type": "stream",
     "text": [
      "tensor([[[[0.4449, 0.3529, 0.7873, 0.7761, 0.3479, 0.3398, 0.6120, 0.8600,\n",
      "           0.7665],\n",
      "          [0.4357, 0.4507, 0.1545, 0.6421, 0.0565, 0.9582, 0.0230, 0.5175,\n",
      "           0.0069],\n",
      "          [0.4541, 0.9205, 0.8131, 0.8120, 0.4300, 0.9506, 0.3741, 0.3906,\n",
      "           0.1054],\n",
      "          [0.1206, 0.2501, 0.2852, 0.3743, 0.4141, 0.9342, 0.1547, 0.9438,\n",
      "           0.3749],\n",
      "          [0.0243, 0.3133, 0.4789, 0.4544, 0.9563, 0.8359, 0.1392, 0.9677,\n",
      "           0.6882],\n",
      "          [0.6370, 0.2799, 0.1286, 0.8236, 0.5257, 0.5285, 0.7111, 0.0142,\n",
      "           0.6026],\n",
      "          [0.5147, 0.7613, 0.8086, 0.8187, 0.5786, 0.3202, 0.3146, 0.5645,\n",
      "           0.0438],\n",
      "          [0.5280, 0.4398, 0.3023, 0.0577, 0.0523, 0.5352, 0.6788, 0.1528,\n",
      "           0.6484],\n",
      "          [0.1849, 0.4045, 0.4520, 0.0380, 0.8113, 0.5356, 0.1096, 0.6444,\n",
      "           0.6319]]]])\n"
     ]
    }
   ],
   "execution_count": 26
  },
  {
   "metadata": {},
   "cell_type": "markdown",
   "source": [
    "## Convolution with the default parameters\n",
    "\n",
    "The result has the dimension:\n",
    "$$n_{new}={n-f}+1$$\n",
    "\n",
    "- **n** - order of the input tensor\n",
    "- **f** - order of the filter"
   ],
   "id": "803f81d658596547"
  },
  {
   "metadata": {
    "ExecuteTime": {
     "end_time": "2025-10-18T14:43:28.679312Z",
     "start_time": "2025-10-18T14:43:28.674656Z"
    }
   },
   "cell_type": "code",
   "source": [
    "import torch.nn as nn\n",
    "\n",
    "cnn = nn.Conv2d(in_channels=1, out_channels=1, kernel_size=3)\n",
    "cnn.state_dict()[\"weight\"][0][0] = sobel_filter\n",
    "cnn.state_dict()[\"bias\"][0] = bias\n",
    "\n",
    "z = cnn(image)\n",
    "print(z)"
   ],
   "id": "118b323c8c5358ab",
   "outputs": [
    {
     "name": "stdout",
     "output_type": "stream",
     "text": [
      "tensor([[[[-0.1391, -0.6974,  1.0186, -0.3344, -0.1414,  0.9210,  0.1464],\n",
      "          [-0.6016, -0.0986,  0.7353, -1.1531,  0.4047,  1.5510,  0.3335],\n",
      "          [-1.1428, -0.2810, -0.3523, -1.6399,  1.3918,  0.4091, -0.7205],\n",
      "          [-0.5654, -0.9501, -1.4810, -1.0278,  1.7082,  0.2412, -1.2095],\n",
      "          [ 0.2683, -1.2858, -1.0417,  0.7073,  0.7103,  0.6525, -0.0610],\n",
      "          [ 0.1463, -0.2763,  0.3129,  0.8146, -0.2839,  0.4081,  0.6806],\n",
      "          [-0.1096,  1.0733,  0.3707, -0.9541, -0.2872,  0.4118, -0.1906]]]],\n",
      "       grad_fn=<ConvolutionBackward0>)\n"
     ]
    }
   ],
   "execution_count": 27
  },
  {
   "metadata": {},
   "cell_type": "markdown",
   "source": [
    "## Convolution with the stride=2\n",
    "\n",
    "stride=2 leads to:\n",
    "- horizontal move - move 2 values right each time\n",
    "- vertical mode - move 2 values down after finishing row\n",
    "\n",
    "The result has the dimension:\n",
    "$$n_{new}=\\dfrac{n-f}{s}+1$$\n",
    "\n",
    "- **n** - order of the input tensor\n",
    "- **f** - order of the filter\n",
    "- **s** - stride"
   ],
   "id": "ffdec9b5f1720f50"
  },
  {
   "metadata": {
    "ExecuteTime": {
     "end_time": "2025-10-18T14:43:28.693324Z",
     "start_time": "2025-10-18T14:43:28.689642Z"
    }
   },
   "cell_type": "code",
   "source": [
    "cnn_stride2 = nn.Conv2d(in_channels=1, out_channels=1, kernel_size=3, stride=2)\n",
    "cnn_stride2.state_dict()[\"weight\"][0][0] = sobel_filter\n",
    "cnn_stride2.state_dict()[\"bias\"][0] = 0.0\n",
    "\n",
    "z_stride2 = cnn_stride2(image)\n",
    "print(z_stride2)"
   ],
   "id": "3de1df69963ed294",
   "outputs": [
    {
     "name": "stdout",
     "output_type": "stream",
     "text": [
      "tensor([[[[-0.1391,  1.0186, -0.1414,  0.1464],\n",
      "          [-1.1428, -0.3523,  1.3918, -0.7205],\n",
      "          [ 0.2683, -1.0417,  0.7103, -0.0610],\n",
      "          [-0.1096,  0.3707, -0.2872, -0.1906]]]],\n",
      "       grad_fn=<ConvolutionBackward0>)\n"
     ]
    }
   ],
   "execution_count": 28
  },
  {
   "metadata": {},
   "cell_type": "markdown",
   "source": [
    "## Convolution with the stride=2 and padding=1\n",
    "\n",
    "The result has the dimension:\n",
    "$$n_{new}=\\dfrac{n+2p-f}{s}+1$$\n",
    "\n",
    "- **n** - order of the input tensor\n",
    "- **f** - order of the filter\n",
    "- **s** - stride\n",
    "- **p** - padding"
   ],
   "id": "73f12673e95555cc"
  },
  {
   "metadata": {
    "ExecuteTime": {
     "end_time": "2025-10-18T14:43:28.712193Z",
     "start_time": "2025-10-18T14:43:28.707987Z"
    }
   },
   "cell_type": "code",
   "source": [
    "cnn_stride2_padding1 = nn.Conv2d(in_channels=1, out_channels=1, kernel_size=3, stride=2, padding=1)\n",
    "cnn_stride2_padding1.state_dict()[\"weight\"][0][0] = sobel_filter\n",
    "cnn_stride2_padding1.state_dict()[\"bias\"][0] = 0.0\n",
    "\n",
    "z_stride2_padding1 = cnn_stride2_padding1(image)\n",
    "print(z_stride2_padding1)"
   ],
   "id": "3971826ea3f6754c",
   "outputs": [
    {
     "name": "stdout",
     "output_type": "stream",
     "text": [
      "tensor([[[[-1.1565, -1.0378,  0.5566, -0.5999,  2.2376],\n",
      "          [-2.5419, -0.0986, -1.1531,  1.5510,  2.2425],\n",
      "          [-1.1567, -0.9501, -1.0278,  0.2412,  2.8934],\n",
      "          [-2.2424, -0.2763,  0.8146,  0.4081,  1.2960],\n",
      "          [-1.2487,  1.1150, -1.4728,  0.1649,  1.4415]]]],\n",
      "       grad_fn=<ConvolutionBackward0>)\n"
     ]
    }
   ],
   "execution_count": 29
  },
  {
   "metadata": {},
   "cell_type": "markdown",
   "source": [
    "## Convolution with the stride=2 and padding=same\n",
    "\n",
    "To get the same input and output dimension:\n",
    "$$n=\\dfrac{n+2p-f}{s}+1$$\n",
    "\n",
    "$$p = \\frac{n(s - 1) + f - s}{2}$$\n",
    "\n",
    "For **s=2** and **f=3**:\n",
    "$$p = \\frac{9(2 - 1) + 3 - 2}{2}=5$$\n",
    "\n",
    "- **n** - order of the input tensor\n",
    "- **f** - order of the filter\n",
    "- **s** - stride\n",
    "- **p** - padding"
   ],
   "id": "8fd8fa42734c8e8f"
  },
  {
   "metadata": {
    "ExecuteTime": {
     "end_time": "2025-10-18T14:43:28.728476Z",
     "start_time": "2025-10-18T14:43:28.723801Z"
    }
   },
   "cell_type": "code",
   "source": [
    "f = 3\n",
    "s = 2\n",
    "padding_same_stride2 = input_order * (s - 1) + f - s\n",
    "\n",
    "cnn_stride2_padding_same = nn.Conv2d(\n",
    "    in_channels=1,\n",
    "    out_channels=1,\n",
    "    kernel_size=f,\n",
    "    stride=s,\n",
    "    padding=padding_same_stride2\n",
    ")\n",
    "cnn_stride2_padding_same.state_dict()[\"weight\"][0][0] = sobel_filter\n",
    "cnn_stride2_padding_same.state_dict()[\"bias\"][0] = 0.0\n",
    "\n",
    "z_stride2_padding_same = cnn_stride2_padding_same(image)\n",
    "print(z_stride2_padding_same)"
   ],
   "id": "fecb953ec75dc7bb",
   "outputs": [
    {
     "name": "stdout",
     "output_type": "stream",
     "text": [
      "tensor([[[[ 0.0000,  0.0000,  0.0000,  0.0000,  0.0000,  0.0000,  0.0000,\n",
      "            0.0000,  0.0000,  0.0000,  0.0000,  0.0000,  0.0000,  0.0000],\n",
      "          [ 0.0000,  0.0000,  0.0000,  0.0000,  0.0000,  0.0000,  0.0000,\n",
      "            0.0000,  0.0000,  0.0000,  0.0000,  0.0000,  0.0000,  0.0000],\n",
      "          [ 0.0000,  0.0000,  0.0000,  0.0000,  0.0000,  0.0000,  0.0000,\n",
      "            0.0000,  0.0000,  0.0000,  0.0000,  0.0000,  0.0000,  0.0000],\n",
      "          [ 0.0000,  0.0000,  0.0000,  0.0000,  0.0000,  0.0000,  0.0000,\n",
      "            0.0000,  0.0000,  0.0000,  0.0000,  0.0000,  0.0000,  0.0000],\n",
      "          [ 0.0000,  0.0000,  0.0000,  0.0000, -0.4449, -0.3423,  0.4394,\n",
      "           -0.2642, -0.1545,  0.7665,  0.0000,  0.0000,  0.0000,  0.0000],\n",
      "          [ 0.0000,  0.0000,  0.0000,  0.0000, -1.7704, -0.1391,  1.0186,\n",
      "           -0.1414,  0.1464,  0.8858,  0.0000,  0.0000,  0.0000,  0.0000],\n",
      "          [ 0.0000,  0.0000,  0.0000,  0.0000, -0.7195, -1.1428, -0.3523,\n",
      "            1.3918, -0.7205,  1.5433,  0.0000,  0.0000,  0.0000,  0.0000],\n",
      "          [ 0.0000,  0.0000,  0.0000,  0.0000, -1.8129,  0.2683, -1.0417,\n",
      "            0.7103, -0.0610,  1.9371,  0.0000,  0.0000,  0.0000,  0.0000],\n",
      "          [ 0.0000,  0.0000,  0.0000,  0.0000, -1.7556, -0.1096,  0.3707,\n",
      "           -0.2872, -0.1906,  1.9723,  0.0000,  0.0000,  0.0000,  0.0000],\n",
      "          [ 0.0000,  0.0000,  0.0000,  0.0000, -0.1849, -0.2671, -0.3593,\n",
      "            0.7018, -0.5223,  0.6319,  0.0000,  0.0000,  0.0000,  0.0000],\n",
      "          [ 0.0000,  0.0000,  0.0000,  0.0000,  0.0000,  0.0000,  0.0000,\n",
      "            0.0000,  0.0000,  0.0000,  0.0000,  0.0000,  0.0000,  0.0000],\n",
      "          [ 0.0000,  0.0000,  0.0000,  0.0000,  0.0000,  0.0000,  0.0000,\n",
      "            0.0000,  0.0000,  0.0000,  0.0000,  0.0000,  0.0000,  0.0000],\n",
      "          [ 0.0000,  0.0000,  0.0000,  0.0000,  0.0000,  0.0000,  0.0000,\n",
      "            0.0000,  0.0000,  0.0000,  0.0000,  0.0000,  0.0000,  0.0000],\n",
      "          [ 0.0000,  0.0000,  0.0000,  0.0000,  0.0000,  0.0000,  0.0000,\n",
      "            0.0000,  0.0000,  0.0000,  0.0000,  0.0000,  0.0000,  0.0000]]]],\n",
      "       grad_fn=<ConvolutionBackward0>)\n",
      "torch.Size([1, 1, 14, 14])\n"
     ]
    }
   ],
   "execution_count": 30
  },
  {
   "metadata": {},
   "cell_type": "markdown",
   "source": "## Padding visualization\n",
   "id": "9e4a8ccd45bb1bad"
  },
  {
   "metadata": {
    "ExecuteTime": {
     "end_time": "2025-10-18T14:43:28.743500Z",
     "start_time": "2025-10-18T14:43:28.739795Z"
    }
   },
   "cell_type": "code",
   "source": [
    "import torch.nn.functional as F\n",
    "\n",
    "padded_image = F.pad(image, (1, 1, 1, 1))  # (left, right, top, bottom)\n",
    "print(padded_image)"
   ],
   "id": "755388bf88dc5403",
   "outputs": [
    {
     "name": "stdout",
     "output_type": "stream",
     "text": [
      "tensor([[[[0.0000, 0.0000, 0.0000, 0.0000, 0.0000, 0.0000, 0.0000, 0.0000,\n",
      "           0.0000, 0.0000, 0.0000],\n",
      "          [0.0000, 0.4449, 0.3529, 0.7873, 0.7761, 0.3479, 0.3398, 0.6120,\n",
      "           0.8600, 0.7665, 0.0000],\n",
      "          [0.0000, 0.4357, 0.4507, 0.1545, 0.6421, 0.0565, 0.9582, 0.0230,\n",
      "           0.5175, 0.0069, 0.0000],\n",
      "          [0.0000, 0.4541, 0.9205, 0.8131, 0.8120, 0.4300, 0.9506, 0.3741,\n",
      "           0.3906, 0.1054, 0.0000],\n",
      "          [0.0000, 0.1206, 0.2501, 0.2852, 0.3743, 0.4141, 0.9342, 0.1547,\n",
      "           0.9438, 0.3749, 0.0000],\n",
      "          [0.0000, 0.0243, 0.3133, 0.4789, 0.4544, 0.9563, 0.8359, 0.1392,\n",
      "           0.9677, 0.6882, 0.0000],\n",
      "          [0.0000, 0.6370, 0.2799, 0.1286, 0.8236, 0.5257, 0.5285, 0.7111,\n",
      "           0.0142, 0.6026, 0.0000],\n",
      "          [0.0000, 0.5147, 0.7613, 0.8086, 0.8187, 0.5786, 0.3202, 0.3146,\n",
      "           0.5645, 0.0438, 0.0000],\n",
      "          [0.0000, 0.5280, 0.4398, 0.3023, 0.0577, 0.0523, 0.5352, 0.6788,\n",
      "           0.1528, 0.6484, 0.0000],\n",
      "          [0.0000, 0.1849, 0.4045, 0.4520, 0.0380, 0.8113, 0.5356, 0.1096,\n",
      "           0.6444, 0.6319, 0.0000],\n",
      "          [0.0000, 0.0000, 0.0000, 0.0000, 0.0000, 0.0000, 0.0000, 0.0000,\n",
      "           0.0000, 0.0000, 0.0000]]]])\n"
     ]
    }
   ],
   "execution_count": 31
  },
  {
   "metadata": {},
   "cell_type": "markdown",
   "source": "## Visualization",
   "id": "6f121997e971a20a"
  },
  {
   "metadata": {
    "ExecuteTime": {
     "end_time": "2025-10-18T14:43:29.046355Z",
     "start_time": "2025-10-18T14:43:28.762402Z"
    }
   },
   "cell_type": "code",
   "source": [
    "from matplotlib import pyplot as plt\n",
    "\n",
    "images = [image, z, z_stride2, z_stride2_padding1, z_stride2_padding_same]\n",
    "labels = [\"original\", \"default s\", \"s=2\", \"s=2, p=1\", \"s=2, p=same\"]\n",
    "\n",
    "n = len(images)\n",
    "fig, axes = plt.subplots(1, n, figsize=(4 * n, 4))\n",
    "\n",
    "for ax, i, l in zip(axes, images, labels):\n",
    "    img_np = i.squeeze().detach().numpy()\n",
    "    ax.imshow(img_np, cmap=\"gray\")\n",
    "    ax.set_title(l)\n",
    "\n",
    "plt.tight_layout()\n",
    "plt.show()"
   ],
   "id": "df6eab6aa2d4af8c",
   "outputs": [
    {
     "data": {
      "text/plain": [
       "<Figure size 2000x400 with 5 Axes>"
      ],
      "image/png": "[encoded data removed]"
     },
     "metadata": {},
     "output_type": "display_data",
     "jetTransient": {
      "display_id": null
     }
    }
   ],
   "execution_count": 32
  }
 ],
 "metadata": {
  "kernelspec": {
   "display_name": "Python 3",
   "language": "python",
   "name": "python3"
  },
  "language_info": {
   "codemirror_mode": {
    "name": "ipython",
    "version": 2
   },
   "file_extension": ".py",
   "mimetype": "text/x-python",
   "name": "python",
   "nbconvert_exporter": "python",
   "pygments_lexer": "ipython2",
   "version": "2.7.6"
  }
 },
 "nbformat": 4,
 "nbformat_minor": 5
}
