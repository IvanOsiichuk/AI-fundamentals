{
 "cells": [
  {
   "metadata": {},
   "cell_type": "markdown",
   "source": "# Convolutional neural network",
   "id": "1371204970034f77"
  },
  {
   "metadata": {},
   "cell_type": "markdown",
   "source": "## Parameters",
   "id": "ff9494e86c2650f7"
  },
  {
   "metadata": {
    "ExecuteTime": {
     "end_time": "2025-10-21T15:05:24.083048Z",
     "start_time": "2025-10-21T15:05:24.080108Z"
    }
   },
   "cell_type": "code",
   "source": [
    "\n",
    "\n",
    "import torch\n",
    "\n",
    "sobel_filter = torch.tensor([\n",
    "    [1.0, 0, -1.0],\n",
    "    [2.0, 0, -2.0],\n",
    "    [1.0, 0.0, -1.0]\n",
    "])\n",
    "\n",
    "bias = 0.0"
   ],
   "id": "2a8dbd02b2339fac",
   "outputs": [],
   "execution_count": 46
  },
  {
   "metadata": {},
   "cell_type": "markdown",
   "source": [
    "## Random image (9, 9)\n",
    "\n",
    "with each value within the range of 0-1"
   ],
   "id": "55846f12c9951374"
  },
  {
   "metadata": {
    "ExecuteTime": {
     "end_time": "2025-10-21T15:05:24.098810Z",
     "start_time": "2025-10-21T15:05:24.095017Z"
    }
   },
   "cell_type": "code",
   "source": [
    "input_order = 9\n",
    "image = torch.rand(1, 1, input_order, input_order)\n",
    "\n",
    "print(image)"
   ],
   "id": "51c9ec98a5af4f5e",
   "outputs": [
    {
     "name": "stdout",
     "output_type": "stream",
     "text": [
      "tensor([[[[0.9100, 0.1599, 0.3450, 0.7153, 0.6602, 0.3503, 0.1530, 0.7589,\n",
      "           0.2584],\n",
      "          [0.8565, 0.1716, 0.1364, 0.3096, 0.4789, 0.1390, 0.7532, 0.3873,\n",
      "           0.0837],\n",
      "          [0.6374, 0.3136, 0.4849, 0.6897, 0.0704, 0.3360, 0.0376, 0.7340,\n",
      "           0.7200],\n",
      "          [0.6159, 0.5066, 0.5299, 0.5502, 0.0491, 0.4624, 0.9555, 0.9223,\n",
      "           0.2588],\n",
      "          [0.2986, 0.5631, 0.7777, 0.3276, 0.0375, 0.7687, 0.4916, 0.4330,\n",
      "           0.1792],\n",
      "          [0.5735, 0.9610, 0.7645, 0.2127, 0.6128, 0.7501, 0.3468, 0.5848,\n",
      "           0.0551],\n",
      "          [0.6637, 0.8504, 0.1768, 0.8323, 0.8207, 0.7938, 0.2986, 0.5804,\n",
      "           0.4603],\n",
      "          [0.8498, 0.8366, 0.8099, 0.2530, 0.8442, 0.5123, 0.0446, 0.4282,\n",
      "           0.0225],\n",
      "          [0.0295, 0.0244, 0.8430, 0.2850, 0.1613, 0.0665, 0.9417, 0.1697,\n",
      "           0.5534]]]])\n"
     ]
    }
   ],
   "execution_count": 47
  },
  {
   "metadata": {},
   "cell_type": "markdown",
   "source": "## Task 1",
   "id": "ebe5cdff7f93f305"
  },
  {
   "metadata": {},
   "cell_type": "markdown",
   "source": [
    "### Convolution with the default parameters\n",
    "\n",
    "The result has the dimension:\n",
    "$$n_{new}={n-f}+1$$\n",
    "\n",
    "- **n** - order of the input tensor\n",
    "- **f** - order of the filter"
   ],
   "id": "803f81d658596547"
  },
  {
   "metadata": {
    "ExecuteTime": {
     "end_time": "2025-10-21T15:05:24.111775Z",
     "start_time": "2025-10-21T15:05:24.107701Z"
    }
   },
   "cell_type": "code",
   "source": [
    "import torch.nn as nn\n",
    "\n",
    "cnn = nn.Conv2d(in_channels=1, out_channels=1, kernel_size=3)\n",
    "cnn.state_dict()[\"weight\"][0][0] = sobel_filter\n",
    "cnn.state_dict()[\"bias\"][0] = bias\n",
    "\n",
    "z = cnn(image)\n",
    "print(z)"
   ],
   "id": "118b323c8c5358ab",
   "outputs": [
    {
     "name": "stdout",
     "output_type": "stream",
     "text": [
      "tensor([[[[ 2.1576e+00, -1.2074e+00, -5.8561e-01,  1.0597e+00, -8.5622e-03,\n",
      "           -1.3032e+00,  5.5115e-01],\n",
      "          [ 1.1109e+00, -9.3378e-01,  9.6757e-01,  9.6556e-01, -1.1153e+00,\n",
      "           -1.5041e+00,  1.5159e-03],\n",
      "          [-1.5475e-01, -2.2777e-01,  2.1165e+00,  8.8048e-02, -2.2343e+00,\n",
      "           -9.8194e-01,  1.0235e+00],\n",
      "          [-1.0632e+00,  1.1757e+00,  2.1130e+00, -1.3318e+00, -1.5485e+00,\n",
      "            3.7695e-01,  1.6132e+00],\n",
      "          [-3.7414e-01,  1.7502e+00,  3.9964e-01, -1.4774e+00,  6.0014e-01,\n",
      "            8.7980e-01,  7.3411e-01],\n",
      "          [ 8.2285e-01,  1.3681e+00, -1.1705e+00, -7.1955e-01,  2.1098e+00,\n",
      "            6.7622e-01, -9.5998e-03],\n",
      "          [-2.4663e-01,  9.2468e-01, -3.0859e-02, -2.6148e-01,  1.3408e+00,\n",
      "            2.7843e-01,  2.7073e-01]]]], grad_fn=<ConvolutionBackward0>)\n"
     ]
    }
   ],
   "execution_count": 48
  },
  {
   "metadata": {},
   "cell_type": "markdown",
   "source": [
    "### Convolution with the stride=2\n",
    "\n",
    "stride=2 leads to:\n",
    "- horizontal move - move 2 values right each time\n",
    "- vertical mode - move 2 values down after finishing row\n",
    "\n",
    "The result has the dimension:\n",
    "$$n_{new}=\\dfrac{n-f}{s}+1$$\n",
    "\n",
    "- **n** - order of the input tensor\n",
    "- **f** - order of the filter\n",
    "- **s** - stride"
   ],
   "id": "ffdec9b5f1720f50"
  },
  {
   "metadata": {
    "ExecuteTime": {
     "end_time": "2025-10-21T15:05:24.126785Z",
     "start_time": "2025-10-21T15:05:24.123231Z"
    }
   },
   "cell_type": "code",
   "source": [
    "cnn_stride2 = nn.Conv2d(in_channels=1, out_channels=1, kernel_size=3, stride=2)\n",
    "cnn_stride2.state_dict()[\"weight\"][0][0] = sobel_filter\n",
    "cnn_stride2.state_dict()[\"bias\"][0] = 0.0\n",
    "\n",
    "z_stride2 = cnn_stride2(image)\n",
    "print(z_stride2)"
   ],
   "id": "3de1df69963ed294",
   "outputs": [
    {
     "name": "stdout",
     "output_type": "stream",
     "text": [
      "tensor([[[[ 2.1576, -0.5856, -0.0086,  0.5511],\n",
      "          [-0.1547,  2.1165, -2.2343,  1.0235],\n",
      "          [-0.3741,  0.3996,  0.6001,  0.7341],\n",
      "          [-0.2466, -0.0309,  1.3408,  0.2707]]]],\n",
      "       grad_fn=<ConvolutionBackward0>)\n"
     ]
    }
   ],
   "execution_count": 49
  },
  {
   "metadata": {},
   "cell_type": "markdown",
   "source": [
    "### Convolution with the stride=2 and padding=1\n",
    "\n",
    "The result has the dimension:\n",
    "$$n_{new}=\\dfrac{n+2p-f}{s}+1$$\n",
    "\n",
    "- _n_ - order of the input tensor\n",
    "- _f_ - order of the filter\n",
    "- _s_ - stride\n",
    "- _p_ - padding"
   ],
   "id": "73f12673e95555cc"
  },
  {
   "metadata": {
    "ExecuteTime": {
     "end_time": "2025-10-21T15:05:24.154455Z",
     "start_time": "2025-10-21T15:05:24.150348Z"
    }
   },
   "cell_type": "code",
   "source": [
    "cnn_stride2_padding1 = nn.Conv2d(in_channels=1, out_channels=1, kernel_size=3, stride=2, padding=1)\n",
    "cnn_stride2_padding1.state_dict()[\"weight\"][0][0] = sobel_filter\n",
    "cnn_stride2_padding1.state_dict()[\"bias\"][0] = 0.0\n",
    "\n",
    "z_stride2_padding1 = cnn_stride2_padding1(image)\n",
    "print(z_stride2_padding1)"
   ],
   "id": "3971826ea3f6754c",
   "outputs": [
    {
     "name": "stdout",
     "output_type": "stream",
     "text": [
      "tensor([[[[-0.4914, -1.2487,  0.9005, -1.0655,  1.9051],\n",
      "          [-1.3053, -0.9338,  0.9656, -1.5041,  2.7776],\n",
      "          [-2.5938,  1.1757, -1.3318,  0.3769,  2.3730],\n",
      "          [-3.4984,  1.3681, -0.7196,  0.6762,  2.1737],\n",
      "          [-0.8854,  0.0624,  0.1777, -0.1222,  0.7675]]]],\n",
      "       grad_fn=<ConvolutionBackward0>)\n"
     ]
    }
   ],
   "execution_count": 50
  },
  {
   "metadata": {},
   "cell_type": "markdown",
   "source": "## Task 2",
   "id": "8be54ccf845bba10"
  },
  {
   "metadata": {},
   "cell_type": "markdown",
   "source": [
    "### Convolution with the stride=2 and padding=same\n",
    "\n",
    "To get the same input and output dimension:\n",
    "$$n=\\dfrac{n+2p-f}{s}+1$$\n",
    "\n",
    "$$p = \\frac{ns - n + f - s}{2}$$\n",
    "\n",
    "For _n=9_, _s=2_ and _f=3_:\n",
    "$$p = \\frac{9*2-9+3-2}{2}=5$$\n",
    "\n",
    "- **n** - order of the input tensor\n",
    "- **f** - order of the filter\n",
    "- **s** - stride\n",
    "- **p** - padding"
   ],
   "id": "8fd8fa42734c8e8f"
  },
  {
   "metadata": {
    "ExecuteTime": {
     "end_time": "2025-10-21T15:05:24.209351Z",
     "start_time": "2025-10-21T15:05:24.205074Z"
    }
   },
   "cell_type": "code",
   "source": [
    "import math\n",
    "\n",
    "n = 9\n",
    "f = 3\n",
    "s = 2\n",
    "padding_same_stride2 = (n * s - n + f - s) / 2\n",
    "padding_same_stride2 = math.ceil(padding_same_stride2)  # round up if fractional\n",
    "\n",
    "cnn_stride2_padding_same = nn.Conv2d(\n",
    "    in_channels=1,\n",
    "    out_channels=1,\n",
    "    kernel_size=f,\n",
    "    stride=s,\n",
    "    padding=padding_same_stride2\n",
    ")\n",
    "cnn_stride2_padding_same.state_dict()[\"weight\"][0][0] = sobel_filter\n",
    "cnn_stride2_padding_same.state_dict()[\"bias\"][0] = 0.0\n",
    "\n",
    "z_stride2_padding_same = cnn_stride2_padding_same(image)\n",
    "print(z_stride2_padding_same)"
   ],
   "id": "fecb953ec75dc7bb",
   "outputs": [
    {
     "name": "stdout",
     "output_type": "stream",
     "text": [
      "tensor([[[[ 0.0000,  0.0000,  0.0000,  0.0000,  0.0000,  0.0000,  0.0000,\n",
      "            0.0000,  0.0000],\n",
      "          [ 0.0000,  0.0000,  0.0000,  0.0000,  0.0000,  0.0000,  0.0000,\n",
      "            0.0000,  0.0000],\n",
      "          [ 0.0000,  0.0000, -0.4914, -1.2487,  0.9005, -1.0655,  1.9051,\n",
      "            0.0000,  0.0000],\n",
      "          [ 0.0000,  0.0000, -1.3053, -0.9338,  0.9656, -1.5041,  2.7776,\n",
      "            0.0000,  0.0000],\n",
      "          [ 0.0000,  0.0000, -2.5938,  1.1757, -1.3318,  0.3769,  2.3730,\n",
      "            0.0000,  0.0000],\n",
      "          [ 0.0000,  0.0000, -3.4984,  1.3681, -0.7196,  0.6762,  2.1737,\n",
      "            0.0000,  0.0000],\n",
      "          [ 0.0000,  0.0000, -0.8854,  0.0624,  0.1777, -0.1222,  0.7675,\n",
      "            0.0000,  0.0000],\n",
      "          [ 0.0000,  0.0000,  0.0000,  0.0000,  0.0000,  0.0000,  0.0000,\n",
      "            0.0000,  0.0000],\n",
      "          [ 0.0000,  0.0000,  0.0000,  0.0000,  0.0000,  0.0000,  0.0000,\n",
      "            0.0000,  0.0000]]]], grad_fn=<ConvolutionBackward0>)\n"
     ]
    }
   ],
   "execution_count": 51
  },
  {
   "metadata": {},
   "cell_type": "markdown",
   "source": "## Bonus",
   "id": "57e87c79e94866c"
  },
  {
   "metadata": {},
   "cell_type": "markdown",
   "source": "### Padding visualization\n",
   "id": "9e4a8ccd45bb1bad"
  },
  {
   "metadata": {
    "ExecuteTime": {
     "end_time": "2025-10-21T15:05:24.272190Z",
     "start_time": "2025-10-21T15:05:24.268601Z"
    }
   },
   "cell_type": "code",
   "source": [
    "import torch.nn.functional as F\n",
    "\n",
    "padded_image = F.pad(image, (1, 1, 1, 1))  # (left, right, top, bottom)\n",
    "print(padded_image)"
   ],
   "id": "755388bf88dc5403",
   "outputs": [
    {
     "name": "stdout",
     "output_type": "stream",
     "text": [
      "tensor([[[[0.0000, 0.0000, 0.0000, 0.0000, 0.0000, 0.0000, 0.0000, 0.0000,\n",
      "           0.0000, 0.0000, 0.0000],\n",
      "          [0.0000, 0.9100, 0.1599, 0.3450, 0.7153, 0.6602, 0.3503, 0.1530,\n",
      "           0.7589, 0.2584, 0.0000],\n",
      "          [0.0000, 0.8565, 0.1716, 0.1364, 0.3096, 0.4789, 0.1390, 0.7532,\n",
      "           0.3873, 0.0837, 0.0000],\n",
      "          [0.0000, 0.6374, 0.3136, 0.4849, 0.6897, 0.0704, 0.3360, 0.0376,\n",
      "           0.7340, 0.7200, 0.0000],\n",
      "          [0.0000, 0.6159, 0.5066, 0.5299, 0.5502, 0.0491, 0.4624, 0.9555,\n",
      "           0.9223, 0.2588, 0.0000],\n",
      "          [0.0000, 0.2986, 0.5631, 0.7777, 0.3276, 0.0375, 0.7687, 0.4916,\n",
      "           0.4330, 0.1792, 0.0000],\n",
      "          [0.0000, 0.5735, 0.9610, 0.7645, 0.2127, 0.6128, 0.7501, 0.3468,\n",
      "           0.5848, 0.0551, 0.0000],\n",
      "          [0.0000, 0.6637, 0.8504, 0.1768, 0.8323, 0.8207, 0.7938, 0.2986,\n",
      "           0.5804, 0.4603, 0.0000],\n",
      "          [0.0000, 0.8498, 0.8366, 0.8099, 0.2530, 0.8442, 0.5123, 0.0446,\n",
      "           0.4282, 0.0225, 0.0000],\n",
      "          [0.0000, 0.0295, 0.0244, 0.8430, 0.2850, 0.1613, 0.0665, 0.9417,\n",
      "           0.1697, 0.5534, 0.0000],\n",
      "          [0.0000, 0.0000, 0.0000, 0.0000, 0.0000, 0.0000, 0.0000, 0.0000,\n",
      "           0.0000, 0.0000, 0.0000]]]])\n"
     ]
    }
   ],
   "execution_count": 52
  },
  {
   "metadata": {},
   "cell_type": "markdown",
   "source": "### Comparative visualization",
   "id": "6f121997e971a20a"
  },
  {
   "metadata": {
    "ExecuteTime": {
     "end_time": "2025-10-21T15:05:24.559467Z",
     "start_time": "2025-10-21T15:05:24.291331Z"
    }
   },
   "cell_type": "code",
   "source": [
    "from matplotlib import pyplot as plt\n",
    "\n",
    "images = [image, z, z_stride2, z_stride2_padding1, z_stride2_padding_same]\n",
    "labels = [\"original\", \"default s\", \"s=2\", \"s=2, p=1\", \"s=2, p=same\"]\n",
    "\n",
    "n = len(images)\n",
    "fig, axes = plt.subplots(1, n, figsize=(4 * n, 4))\n",
    "\n",
    "for ax, i, l in zip(axes, images, labels):\n",
    "    img_np = i.squeeze().detach().numpy()\n",
    "    ax.imshow(img_np, cmap=\"gray\")\n",
    "    ax.set_title(l)\n",
    "\n",
    "plt.tight_layout()\n",
    "plt.show()"
   ],
   "id": "df6eab6aa2d4af8c",
   "outputs": [
    {
     "data": {
      "text/plain": [
       "<Figure size 2000x400 with 5 Axes>"
      ],
      "image/png": "[encoded data removed]"
     },
     "metadata": {},
     "output_type": "display_data",
     "jetTransient": {
      "display_id": null
     }
    }
   ],
   "execution_count": 53
  }
 ],
 "metadata": {
  "kernelspec": {
   "display_name": "Python 3",
   "language": "python",
   "name": "python3"
  },
  "language_info": {
   "codemirror_mode": {
    "name": "ipython",
    "version": 2
   },
   "file_extension": ".py",
   "mimetype": "text/x-python",
   "name": "python",
   "nbconvert_exporter": "python",
   "pygments_lexer": "ipython2",
   "version": "2.7.6"
  }
 },
 "nbformat": 4,
 "nbformat_minor": 5
}
