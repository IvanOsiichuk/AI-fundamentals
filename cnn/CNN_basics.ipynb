{
 "cells": [
  {
   "metadata": {},
   "cell_type": "markdown",
   "source": "# Convolutional neural network",
   "id": "1371204970034f77"
  },
  {
   "metadata": {},
   "cell_type": "markdown",
   "source": "## Parameters",
   "id": "ff9494e86c2650f7"
  },
  {
   "metadata": {
    "ExecuteTime": {
     "end_time": "2025-10-14T18:37:35.618643Z",
     "start_time": "2025-10-14T18:37:35.616156Z"
    }
   },
   "cell_type": "code",
   "source": [
    "import torch\n",
    "\n",
    "from back_propagation.back_propagation_iterative import inputs\n",
    "\n",
    "sobel_filter = torch.tensor([\n",
    "    [1.0, 0, -1.0],\n",
    "    [2.0, 0, -2.0],\n",
    "    [1.0, 0.0, -1.0]\n",
    "])\n",
    "\n",
    "bias = 0.0"
   ],
   "id": "2a8dbd02b2339fac",
   "outputs": [],
   "execution_count": 798
  },
  {
   "metadata": {},
   "cell_type": "markdown",
   "source": [
    "## Random image (1, 1, 9, 9)\n",
    "\n",
    "each value is within the range of 0-1"
   ],
   "id": "55846f12c9951374"
  },
  {
   "metadata": {
    "ExecuteTime": {
     "end_time": "2025-10-14T18:37:35.626509Z",
     "start_time": "2025-10-14T18:37:35.622450Z"
    }
   },
   "cell_type": "code",
   "source": [
    "input_order = 9\n",
    "image = torch.rand(1, 1, input_order, input_order)\n",
    "\n",
    "print(image)"
   ],
   "id": "51c9ec98a5af4f5e",
   "outputs": [
    {
     "name": "stdout",
     "output_type": "stream",
     "text": [
      "tensor([[[[0.9504, 0.6655, 0.1979, 0.3331, 0.4400, 0.7209, 0.9519, 0.4740,\n",
      "           0.5025],\n",
      "          [0.1289, 0.6480, 0.3326, 0.3473, 0.2863, 0.5032, 0.8522, 0.9659,\n",
      "           0.1099],\n",
      "          [0.0079, 0.7867, 0.3495, 0.1812, 0.5312, 0.7264, 0.7821, 0.2268,\n",
      "           0.2902],\n",
      "          [0.3311, 0.4139, 0.9388, 0.3224, 0.7391, 0.8877, 0.1853, 0.6254,\n",
      "           0.1293],\n",
      "          [0.0980, 0.9313, 0.7428, 0.9650, 0.2319, 0.1375, 0.5435, 0.3231,\n",
      "           0.7077],\n",
      "          [0.6582, 0.6527, 0.2098, 0.7066, 0.1767, 0.0302, 0.8774, 0.8500,\n",
      "           0.9524],\n",
      "          [0.3515, 0.8809, 0.5983, 0.7347, 0.8854, 0.5649, 0.5256, 0.3262,\n",
      "           0.5942],\n",
      "          [0.0150, 0.2774, 0.9029, 0.9827, 0.3367, 0.9283, 0.8134, 0.4648,\n",
      "           0.3546],\n",
      "          [0.3942, 0.4608, 0.3887, 0.4950, 0.3229, 0.8646, 0.0054, 0.1156,\n",
      "           0.3497]]]])\n"
     ]
    }
   ],
   "execution_count": 799
  },
  {
   "metadata": {},
   "cell_type": "markdown",
   "source": [
    "## Convolution with the default parameters\n",
    "\n",
    "The result has the dimension:\n",
    "$$n_{new}={n-f}+1$$\n",
    "\n",
    "- **n** - order of the input tensor\n",
    "- **f** - order of the filter"
   ],
   "id": "803f81d658596547"
  },
  {
   "metadata": {
    "ExecuteTime": {
     "end_time": "2025-10-14T18:37:35.640524Z",
     "start_time": "2025-10-14T18:37:35.636139Z"
    }
   },
   "cell_type": "code",
   "source": [
    "import torch.nn as nn\n",
    "\n",
    "cnn = nn.Conv2d(in_channels=1, out_channels=1, kernel_size=3)\n",
    "cnn.state_dict()[\"weight\"][0][0] = sobel_filter\n",
    "cnn.state_dict()[\"bias\"][0] = bias\n",
    "\n",
    "z = cnn(image)\n",
    "print(z)"
   ],
   "id": "118b323c8c5358ab",
   "outputs": [
    {
     "name": "stdout",
     "output_type": "stream",
     "text": [
      "tensor([[[[ 0.0035,  1.5392, -0.3313, -1.2448, -1.8944, -0.1788,  2.4258],\n",
      "          [-1.4945,  1.6032, -0.1176, -1.8116, -0.5137,  0.7989,  1.7820],\n",
      "          [-2.2018,  0.7548,  0.7284, -0.8482,  0.5451,  0.8385,  0.4397],\n",
      "          [-1.4489, -0.0297,  1.2545,  1.7662, -0.7701, -0.9289, -0.3473],\n",
      "          [ 0.0052,  0.0048,  0.2900,  2.3501, -1.3531, -1.5867, -0.3827],\n",
      "          [-0.9331, -0.4667,  0.0251,  1.0705, -0.4577,  0.1209,  0.2467],\n",
      "          [-2.0172, -1.2986,  0.9112, -0.0908, -0.2762,  1.9145,  0.5048]]]],\n",
      "       grad_fn=<ConvolutionBackward0>)\n"
     ]
    }
   ],
   "execution_count": 800
  },
  {
   "metadata": {},
   "cell_type": "markdown",
   "source": [
    "## Convolution with the stride=2\n",
    "\n",
    "stride=2 leads to:\n",
    "- horizontal move - move 2 values right each time\n",
    "- vertical mode - move 2 values down after finishing row\n",
    "\n",
    "The result has the dimension:\n",
    "$$n_{new}=\\dfrac{n-f}{s}+1$$\n",
    "\n",
    "- **n** - order of the input tensor\n",
    "- **f** - order of the filter\n",
    "- **s** - stride"
   ],
   "id": "ffdec9b5f1720f50"
  },
  {
   "metadata": {
    "ExecuteTime": {
     "end_time": "2025-10-14T18:37:35.652594Z",
     "start_time": "2025-10-14T18:37:35.649013Z"
    }
   },
   "cell_type": "code",
   "source": [
    "cnn_stride2 = nn.Conv2d(in_channels=1, out_channels=1, kernel_size=3, stride=2)\n",
    "cnn_stride2.state_dict()[\"weight\"][0][0] = sobel_filter\n",
    "cnn_stride2.state_dict()[\"bias\"][0] = 0.0\n",
    "\n",
    "z_stride2 = cnn_stride2(image)\n",
    "print(z_stride2)"
   ],
   "id": "3de1df69963ed294",
   "outputs": [
    {
     "name": "stdout",
     "output_type": "stream",
     "text": [
      "tensor([[[[ 0.0035, -0.3313, -1.8944,  2.4258],\n",
      "          [-2.2018,  0.7284,  0.5451,  0.4397],\n",
      "          [ 0.0052,  0.2900, -1.3531, -0.3827],\n",
      "          [-2.0172,  0.9112, -0.2762,  0.5048]]]],\n",
      "       grad_fn=<ConvolutionBackward0>)\n"
     ]
    }
   ],
   "execution_count": 801
  },
  {
   "metadata": {},
   "cell_type": "markdown",
   "source": [
    "## Convolution with the stride=2 and padding=1\n",
    "\n",
    "The result has the dimension:\n",
    "$$n_{new}=\\dfrac{n+2p-f}{s}+1$$\n",
    "\n",
    "- **n** - order of the input tensor\n",
    "- **f** - order of the filter\n",
    "- **s** - stride\n",
    "- **p** - padding"
   ],
   "id": "73f12673e95555cc"
  },
  {
   "metadata": {
    "ExecuteTime": {
     "end_time": "2025-10-14T18:37:35.665466Z",
     "start_time": "2025-10-14T18:37:35.661720Z"
    }
   },
   "cell_type": "code",
   "source": [
    "cnn_stride2_padding1 = nn.Conv2d(in_channels=1, out_channels=1, kernel_size=3, stride=2, padding=1)\n",
    "cnn_stride2_padding1.state_dict()[\"weight\"][0][0] = sobel_filter\n",
    "cnn_stride2_padding1.state_dict()[\"bias\"][0] = 0.0\n",
    "\n",
    "z_stride2_padding1 = cnn_stride2_padding1(image)\n",
    "print(z_stride2_padding1)"
   ],
   "id": "3971826ea3f6754c",
   "outputs": [
    {
     "name": "stdout",
     "output_type": "stream",
     "text": [
      "tensor([[[[-1.9790,  0.9654, -0.9313,  0.0310,  1.9140],\n",
      "          [-2.6353,  1.6032, -1.8116,  0.7989,  2.0449],\n",
      "          [-2.9293, -0.0297,  1.7662, -0.9289,  2.1217],\n",
      "          [-2.6920, -0.4667,  1.0705,  0.1209,  1.9673],\n",
      "          [-1.1990, -0.7737, -0.6847,  1.9613,  0.6961]]]],\n",
      "       grad_fn=<ConvolutionBackward0>)\n"
     ]
    }
   ],
   "execution_count": 802
  },
  {
   "metadata": {},
   "cell_type": "markdown",
   "source": [
    "## Convolution with the stride=2 and padding=same\n",
    "\n",
    "To get the same input and output dimension:\n",
    "$$n=\\dfrac{n+2p-f}{s}+1$$\n",
    "\n",
    "$$p = \\frac{n(s - 1) + f - s}{2}$$\n",
    "\n",
    "For **s=2** and **f=3**:\n",
    "$$p = \\frac{9(2 - 1) + 3 - 2}{2}=5$$\n",
    "\n",
    "- **n** - order of the input tensor\n",
    "- **f** - order of the filter\n",
    "- **s** - stride\n",
    "- **p** - padding"
   ],
   "id": "8fd8fa42734c8e8f"
  },
  {
   "metadata": {
    "ExecuteTime": {
     "end_time": "2025-10-14T18:37:35.677477Z",
     "start_time": "2025-10-14T18:37:35.673140Z"
    }
   },
   "cell_type": "code",
   "source": [
    "f = 3\n",
    "s = 2\n",
    "padding_same_stride2 = input_order * (s - 1) + f - s\n",
    "\n",
    "cnn_stride2_padding_same = nn.Conv2d(in_channels=1, out_channels=1, kernel_size=f, stride=s, padding=padding_same_stride2)\n",
    "cnn_stride2_padding_same.state_dict()[\"weight\"][0][0] = sobel_filter\n",
    "cnn_stride2_padding_same.state_dict()[\"bias\"][0] = 0.0\n",
    "\n",
    "z_stride2_padding_same = cnn_stride2_padding_same(image)\n",
    "print(z_stride2_padding_same)"
   ],
   "id": "fecb953ec75dc7bb",
   "outputs": [
    {
     "name": "stdout",
     "output_type": "stream",
     "text": [
      "tensor([[[[ 0.0000,  0.0000,  0.0000,  0.0000,  0.0000,  0.0000,  0.0000,\n",
      "            0.0000,  0.0000,  0.0000,  0.0000,  0.0000,  0.0000,  0.0000],\n",
      "          [ 0.0000,  0.0000,  0.0000,  0.0000,  0.0000,  0.0000,  0.0000,\n",
      "            0.0000,  0.0000,  0.0000,  0.0000,  0.0000,  0.0000,  0.0000],\n",
      "          [ 0.0000,  0.0000,  0.0000,  0.0000,  0.0000,  0.0000,  0.0000,\n",
      "            0.0000,  0.0000,  0.0000,  0.0000,  0.0000,  0.0000,  0.0000],\n",
      "          [ 0.0000,  0.0000,  0.0000,  0.0000,  0.0000,  0.0000,  0.0000,\n",
      "            0.0000,  0.0000,  0.0000,  0.0000,  0.0000,  0.0000,  0.0000],\n",
      "          [ 0.0000,  0.0000,  0.0000,  0.0000, -0.9504,  0.7524, -0.2420,\n",
      "           -0.5119,  0.4494,  0.5025,  0.0000,  0.0000,  0.0000,  0.0000],\n",
      "          [ 0.0000,  0.0000,  0.0000,  0.0000, -1.2161,  0.0035, -0.3313,\n",
      "           -1.8944,  2.4258,  1.0125,  0.0000,  0.0000,  0.0000,  0.0000],\n",
      "          [ 0.0000,  0.0000,  0.0000,  0.0000, -0.7681, -2.2018,  0.7284,\n",
      "            0.5451,  0.4397,  1.2566,  0.0000,  0.0000,  0.0000,  0.0000],\n",
      "          [ 0.0000,  0.0000,  0.0000,  0.0000, -1.7660,  0.0052,  0.2900,\n",
      "           -1.3531, -0.3827,  3.2067,  0.0000,  0.0000,  0.0000,  0.0000],\n",
      "          [ 0.0000,  0.0000,  0.0000,  0.0000, -0.7757, -2.0172,  0.9112,\n",
      "           -0.2762,  0.5048,  1.6530,  0.0000,  0.0000,  0.0000,  0.0000],\n",
      "          [ 0.0000,  0.0000,  0.0000,  0.0000, -0.3942,  0.0055,  0.0658,\n",
      "            0.3174, -0.3443,  0.3497,  0.0000,  0.0000,  0.0000,  0.0000],\n",
      "          [ 0.0000,  0.0000,  0.0000,  0.0000,  0.0000,  0.0000,  0.0000,\n",
      "            0.0000,  0.0000,  0.0000,  0.0000,  0.0000,  0.0000,  0.0000],\n",
      "          [ 0.0000,  0.0000,  0.0000,  0.0000,  0.0000,  0.0000,  0.0000,\n",
      "            0.0000,  0.0000,  0.0000,  0.0000,  0.0000,  0.0000,  0.0000],\n",
      "          [ 0.0000,  0.0000,  0.0000,  0.0000,  0.0000,  0.0000,  0.0000,\n",
      "            0.0000,  0.0000,  0.0000,  0.0000,  0.0000,  0.0000,  0.0000],\n",
      "          [ 0.0000,  0.0000,  0.0000,  0.0000,  0.0000,  0.0000,  0.0000,\n",
      "            0.0000,  0.0000,  0.0000,  0.0000,  0.0000,  0.0000,  0.0000]]]],\n",
      "       grad_fn=<ConvolutionBackward0>)\n"
     ]
    }
   ],
   "execution_count": 803
  },
  {
   "metadata": {},
   "cell_type": "markdown",
   "source": "## Padding visualization\n",
   "id": "9e4a8ccd45bb1bad"
  },
  {
   "metadata": {
    "ExecuteTime": {
     "end_time": "2025-10-14T18:37:35.689090Z",
     "start_time": "2025-10-14T18:37:35.685102Z"
    }
   },
   "cell_type": "code",
   "source": [
    "import torch.nn.functional as F\n",
    "\n",
    "padded_image = F.pad(image, (1, 1, 1, 1))  # (left, right, top, bottom)\n",
    "print(padded_image)"
   ],
   "id": "755388bf88dc5403",
   "outputs": [
    {
     "name": "stdout",
     "output_type": "stream",
     "text": [
      "tensor([[[[0.0000, 0.0000, 0.0000, 0.0000, 0.0000, 0.0000, 0.0000, 0.0000,\n",
      "           0.0000, 0.0000, 0.0000],\n",
      "          [0.0000, 0.9504, 0.6655, 0.1979, 0.3331, 0.4400, 0.7209, 0.9519,\n",
      "           0.4740, 0.5025, 0.0000],\n",
      "          [0.0000, 0.1289, 0.6480, 0.3326, 0.3473, 0.2863, 0.5032, 0.8522,\n",
      "           0.9659, 0.1099, 0.0000],\n",
      "          [0.0000, 0.0079, 0.7867, 0.3495, 0.1812, 0.5312, 0.7264, 0.7821,\n",
      "           0.2268, 0.2902, 0.0000],\n",
      "          [0.0000, 0.3311, 0.4139, 0.9388, 0.3224, 0.7391, 0.8877, 0.1853,\n",
      "           0.6254, 0.1293, 0.0000],\n",
      "          [0.0000, 0.0980, 0.9313, 0.7428, 0.9650, 0.2319, 0.1375, 0.5435,\n",
      "           0.3231, 0.7077, 0.0000],\n",
      "          [0.0000, 0.6582, 0.6527, 0.2098, 0.7066, 0.1767, 0.0302, 0.8774,\n",
      "           0.8500, 0.9524, 0.0000],\n",
      "          [0.0000, 0.3515, 0.8809, 0.5983, 0.7347, 0.8854, 0.5649, 0.5256,\n",
      "           0.3262, 0.5942, 0.0000],\n",
      "          [0.0000, 0.0150, 0.2774, 0.9029, 0.9827, 0.3367, 0.9283, 0.8134,\n",
      "           0.4648, 0.3546, 0.0000],\n",
      "          [0.0000, 0.3942, 0.4608, 0.3887, 0.4950, 0.3229, 0.8646, 0.0054,\n",
      "           0.1156, 0.3497, 0.0000],\n",
      "          [0.0000, 0.0000, 0.0000, 0.0000, 0.0000, 0.0000, 0.0000, 0.0000,\n",
      "           0.0000, 0.0000, 0.0000]]]])\n"
     ]
    }
   ],
   "execution_count": 804
  },
  {
   "metadata": {},
   "cell_type": "markdown",
   "source": "## Visualization",
   "id": "6f121997e971a20a"
  },
  {
   "metadata": {
    "ExecuteTime": {
     "end_time": "2025-10-14T18:37:35.952338Z",
     "start_time": "2025-10-14T18:37:35.698960Z"
    }
   },
   "cell_type": "code",
   "source": [
    "from matplotlib import pyplot as plt\n",
    "\n",
    "images = [image, z, z_stride2, z_stride2_padding1, z_stride2_padding_same]\n",
    "labels = [\"original\", \"default s\", \"s=2\", \"s=2, p=1\", \"s=2, p=same\"]\n",
    "\n",
    "n = len(images)\n",
    "fig, axes = plt.subplots(1, n, figsize=(4 * n, 4))\n",
    "\n",
    "na_stride2 = z.squeeze().detach().numpy()\n",
    "plt.imshow(na_stride2, cmap=\"gray\")\n",
    "\n",
    "for ax, i, l in zip(axes, images, labels):\n",
    "    img_np = i.squeeze().detach().numpy()\n",
    "    ax.imshow(img_np, cmap=\"gray\")\n",
    "    ax.set_title(l)\n",
    "\n",
    "plt.tight_layout()\n",
    "plt.show()"
   ],
   "id": "df6eab6aa2d4af8c",
   "outputs": [
    {
     "data": {
      "text/plain": [
       "<Figure size 2000x400 with 5 Axes>"
      ],
      "image/png": "[encoded data removed]"
     },
     "metadata": {},
     "output_type": "display_data",
     "jetTransient": {
      "display_id": null
     }
    }
   ],
   "execution_count": 805
  }
 ],
 "metadata": {
  "kernelspec": {
   "display_name": "Python 3",
   "language": "python",
   "name": "python3"
  },
  "language_info": {
   "codemirror_mode": {
    "name": "ipython",
    "version": 2
   },
   "file_extension": ".py",
   "mimetype": "text/x-python",
   "name": "python",
   "nbconvert_exporter": "python",
   "pygments_lexer": "ipython2",
   "version": "2.7.6"
  }
 },
 "nbformat": 4,
 "nbformat_minor": 5
}
